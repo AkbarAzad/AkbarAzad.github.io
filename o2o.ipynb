{
  "nbformat": 4,
  "nbformat_minor": 0,
  "metadata": {
    "colab": {
      "name": "o2o.ipynb",
      "provenance": [],
      "collapsed_sections": [],
      "authorship_tag": "ABX9TyMhgd+W4/ijvusZ10lEUD1V",
      "include_colab_link": true
    },
    "kernelspec": {
      "name": "python3",
      "display_name": "Python 3"
    },
    "language_info": {
      "name": "python"
    }
  },
  "cells": [
    {
      "cell_type": "markdown",
      "metadata": {
        "id": "view-in-github",
        "colab_type": "text"
      },
      "source": [
        "<a href=\"https://colab.research.google.com/github/AkbarAzad/AkbarAzad.github.io/blob/main/o2o.ipynb\" target=\"_parent\"><img src=\"https://colab.research.google.com/assets/colab-badge.svg\" alt=\"Open In Colab\"/></a>"
      ]
    },
    {
      "cell_type": "markdown",
      "source": [
        "## **Objective: Determine if online behaviour influences offline purchasing behaviour**"
      ],
      "metadata": {
        "id": "TFfeFUpplkvf"
      }
    },
    {
      "cell_type": "markdown",
      "source": [
        "# 1. Data preparation\n",
        "\n",
        "\n",
        "*   Aim to have a dataset of unique users and their online and offline (purchasing) behaviour\n",
        "\n"
      ],
      "metadata": {
        "id": "YSlElXURl0-c"
      }
    },
    {
      "cell_type": "code",
      "execution_count": null,
      "metadata": {
        "colab": {
          "base_uri": "https://localhost:8080/"
        },
        "id": "ReQfJ5x4yzeM",
        "outputId": "fed314f8-1d95-4ff0-cdf3-eb29c339d8bc"
      },
      "outputs": [
        {
          "output_type": "stream",
          "name": "stdout",
          "text": [
            "Mounted at /content/drive\n"
          ]
        }
      ],
      "source": [
        "# Mount Colab at Google Drive\n",
        "from google.colab import drive\n",
        "drive.mount('/content/drive')"
      ]
    },
    {
      "cell_type": "code",
      "source": [
        "# Import packages\n",
        "import pandas as pd\n",
        "from datetime import datetime\n",
        "import matplotlib.pyplot as plt \n",
        "import seaborn as sns\n",
        "import plotly.express as px\n",
        "import yaml\n",
        "import numpy as np\n",
        "from sklearn.linear_model import LogisticRegression\n",
        "from sklearn.metrics import classification_report, confusion_matrix"
      ],
      "metadata": {
        "id": "UvSNK58ezdVN"
      },
      "execution_count": null,
      "outputs": []
    },
    {
      "cell_type": "code",
      "source": [
        "# Import dataset\n",
        "#onlineDf = pd.read_csv('/content/drive/My Drive/web_events.csv')\n",
        "onlineDf = pd.read_csv('/content/drive/My Drive/web_events_item_brand.csv')\n",
        "#offlineDf = pd.read_csv('/content/drive/My Drive/showroom_sales.csv')\n",
        "offlineDf = pd.read_csv('/content/drive/My Drive/showroom_sales_item_brand.csv')"
      ],
      "metadata": {
        "id": "5_lVotPz0Rnj",
        "colab": {
          "base_uri": "https://localhost:8080/"
        },
        "outputId": "c01b3f98-5232-4d0f-d4d1-3bda083f3029"
      },
      "execution_count": null,
      "outputs": [
        {
          "output_type": "stream",
          "name": "stderr",
          "text": [
            "/usr/local/lib/python3.7/dist-packages/IPython/core/interactiveshell.py:2882: DtypeWarning: Columns (7) have mixed types.Specify dtype option on import or set low_memory=False.\n",
            "  exec(code_obj, self.user_global_ns, self.user_ns)\n"
          ]
        }
      ]
    },
    {
      "cell_type": "markdown",
      "source": [
        "Below are functions designed for this analysis to be reproducible"
      ],
      "metadata": {
        "id": "cXsb6TbTmUgW"
      }
    },
    {
      "cell_type": "code",
      "source": [
        "# Explore datasets\n",
        "def showDim(df, name):\n",
        "  rows = df.shape[0]\n",
        "  columns = df.shape[1]\n",
        "  columnNames = ', '.join(df.columns)\n",
        "  return print(f\"Number of rows for {name}: {rows}\\nNumber of columns for {name}: {columns}\\nColumns for {name} are: {columnNames}\")"
      ],
      "metadata": {
        "id": "PvcTLjcn0hCc"
      },
      "execution_count": null,
      "outputs": []
    },
    {
      "cell_type": "code",
      "source": [
        "# Convert fields to datetime\n",
        "def toDate(df, columns = [\"event_date\", \"event_timestamp\"]):\n",
        "  df = df.copy()\n",
        "  newColumn1 = columns[0] + \"_new\"\n",
        "  newColumn2 = columns[1] + \"_new\"\n",
        "  try:\n",
        "    df[newColumn1] = df[columns[0]].apply(lambda x: datetime.strptime(str(x), \"%Y%m%d\"))\n",
        "  except:\n",
        "    df[newColumn1] = df[columns[0]].apply(lambda x: datetime.strptime(x, \"%Y-%m-%d\"))\n",
        "  try:\n",
        "    df[newColumn2] = df[columns[1]].apply(lambda x: pd.to_datetime(str(x), unit = \"us\"))\n",
        "  except:\n",
        "    df[newColumn2] = df[columns[1]].apply(lambda x: datetime.strptime(x, \"%Y-%m-%d %H:%M:%S.%f\"))\n",
        "  return df"
      ],
      "metadata": {
        "id": "jYvWYewlBqmK"
      },
      "execution_count": null,
      "outputs": []
    },
    {
      "cell_type": "code",
      "source": [
        "# Check null values\n",
        "def checkNull(df, threshold = 0.5):\n",
        "  df = df.copy()\n",
        "  rows = df.shape[0]\n",
        "  for i in df.columns:\n",
        "    nullValues = sum(df[i].isna())\n",
        "    nullPct = nullValues/rows\n",
        "    print(f\"{nullPct*100}% of {rows} records are null for column {i}\")\n",
        "    if nullPct >= 0.5:\n",
        "      df.drop(i, axis = 1, inplace = True)\n",
        "      print(f\"Dropped column {i} because percentage of null values exceed threshold of {threshold}\")\n",
        "  return df"
      ],
      "metadata": {
        "id": "vhaZqJUqEUny"
      },
      "execution_count": null,
      "outputs": []
    },
    {
      "cell_type": "code",
      "source": [
        "# Remove irrelevant columns\n",
        "def removeColumns(df, columns = [\"Unnamed: 0\"]):\n",
        "  df = df.copy()\n",
        "  for i in columns:\n",
        "    df.drop(i, axis = 1, inplace = True)\n",
        "    print(f\"Dropped column {i}...\")\n",
        "  return df"
      ],
      "metadata": {
        "id": "yEZnQvc5KBFT"
      },
      "execution_count": null,
      "outputs": []
    },
    {
      "cell_type": "code",
      "source": [
        "# Check first and last dates\n",
        "def checkDates(df, name, column = \"event_date_new\"):\n",
        "  return print(f\"Date range for {name} from {df[column].min()} to {df[column].max()}\")"
      ],
      "metadata": {
        "id": "EvMonma6MVQT"
      },
      "execution_count": null,
      "outputs": []
    },
    {
      "cell_type": "code",
      "source": [
        "# Get dataframe of items\n",
        "def getItems(df, columns = [\"user_id\", \"items\"]):\n",
        "  dfItems = pd.DataFrame()\n",
        "  for user in list(set(df[columns[0]])):\n",
        "    dfUser = df[df[columns[0]]==user]\n",
        "    dfUserItems = pd.DataFrame()\n",
        "    for i, j in dfUser.iterrows():\n",
        "      dfUserItemsJ = pd.DataFrame(yaml.load(j[\"items\"]))\n",
        "      dfUserItems = pd.concat([dfUserItems, dfUserItemsJ], axis = 0)\n",
        "    dfUserItems.reset_index(drop = True, inplace = True)\n",
        "    dfUserItems[\"user_id\"] = user\n",
        "    dfItems = pd.concat([dfItems, dfUserItems], axis = 0)\n",
        "    dfItems.reset_index(drop = True, inplace = True)\n",
        "  return dfItems"
      ],
      "metadata": {
        "id": "igT6sivQXGJw"
      },
      "execution_count": null,
      "outputs": []
    },
    {
      "cell_type": "code",
      "source": [
        "# Get total items purchased\n",
        "def getTotalItems(dfItems):\n",
        "  df = dfItems.copy()\n",
        "  dfGroup = df.groupby([\"user_id\"])[\"quantity\"].agg(sum)\n",
        "  dfGroup = pd.DataFrame(dfGroup)\n",
        "  dfGroup.reset_index(drop = False, inplace = True)\n",
        "  dfGroup.columns = [\"user_id\", \"offlinePurchases\"]\n",
        "  return dfGroup"
      ],
      "metadata": {
        "id": "ojKZygjaIMn0"
      },
      "execution_count": null,
      "outputs": []
    },
    {
      "cell_type": "code",
      "source": [
        "# Get last online visit date\n",
        "def getFirstOrLastVisit(df, column = \"event_date_new\", method = \"min\", type = \"offline\"):\n",
        "  df = df.copy()\n",
        "  if method == \"min\":\n",
        "    dfGroup = pd.DataFrame(df.groupby(\"user_id\")[\"event_date_new\"].min())\n",
        "  elif method == \"max\":\n",
        "    dfGroup = pd.DataFrame(df.groupby(\"user_id\")[column].max())\n",
        "  dfGroup = dfGroup.reset_index(drop = False)\n",
        "  dfGroup = dfGroup.rename(columns = {column: f\"{method}_{type}_visit_date\"})\n",
        "  return dfGroup"
      ],
      "metadata": {
        "id": "7y8iqtleZ-XS"
      },
      "execution_count": null,
      "outputs": []
    },
    {
      "cell_type": "code",
      "source": [
        "# Get offline users and their online behaviour\n",
        "def doMerge(offlineDfRem, dfTotalItems, onlineDfRem):\n",
        "  # Aggregate\n",
        "  offlineAgg = pd.DataFrame(offlineDfRem.groupby([\"user_id\"]).size())\n",
        "  offlineAgg.reset_index(drop = False, inplace = True)\n",
        "  offlineAgg.columns = [\"user_id\", \"offlineVisits\"]\n",
        "\n",
        "  onlineAgg = pd.DataFrame(onlineDfRem.groupby([\"user_id\"]).size())\n",
        "  onlineAgg.reset_index(drop = False, inplace = True)\n",
        "  onlineAgg.columns = [\"user_id\", \"onlineVisits\"]\n",
        "\n",
        "  dfMerge = pd.merge(offlineAgg, dfTotalItems, how = \"left\", on = \"user_id\")\n",
        "  dfMerge = pd.merge(dfMerge, onlineAgg, how = \"left\", on = \"user_id\")\n",
        "\n",
        "  return dfMerge"
      ],
      "metadata": {
        "id": "J2dHEmsAJ3p8"
      },
      "execution_count": null,
      "outputs": []
    },
    {
      "cell_type": "code",
      "source": [
        "# Extract binary features\n",
        "def getFeatures(dfMerge):\n",
        "  df = dfMerge.copy()\n",
        "  df[\"onlineVisits\"] = df[\"onlineVisits\"].apply(lambda x: x if x > 0 else 0)\n",
        "  df[\"hasPurchasedOffline\"] = df[\"offlinePurchases\"].apply(lambda x: 1 if x > 0 else 0)\n",
        "  df[\"hasVisitedOnline\"] = df[\"onlineVisits\"].apply(lambda x: 1 if x > 0 else 0)\n",
        "  return df"
      ],
      "metadata": {
        "id": "gaS2-qKlfNYt"
      },
      "execution_count": null,
      "outputs": []
    },
    {
      "cell_type": "code",
      "source": [
        "# Combine users who visited offline and those who did not but yet visited online\n",
        "def doConcat(dfFeatures, onlineDfRem):\n",
        "  userList = list(set(dfFeatures[\"user_id\"]))\n",
        "  df = onlineDfRem.copy()\n",
        "  df = df[~df[\"user_id\"].isin(userList)]\n",
        "  df = df[~df[\"user_id\"].isna()]\n",
        "  dfGroup = pd.DataFrame(df.groupby(\"user_id\").size())\n",
        "  dfGroup.reset_index(drop = False, inplace = True)\n",
        "  dfGroup.columns = [\"user_id\", \"onlineVisits\"]\n",
        "  dfGroup[\"hasVisitedOnline\"] = 1\n",
        "  dfOut = pd.DataFrame()\n",
        "  for column in list(dfFeatures.columns):\n",
        "    if column not in list(dfGroup.columns):\n",
        "      dfOut[column] = 0\n",
        "    else:\n",
        "      dfOut[column] = dfGroup[column]\n",
        "  dfConcat = pd.concat([dfFeatures, dfOut], axis = 0).reset_index(drop = True)\n",
        "  if len(list(set(dfConcat[\"user_id\"]))) == dfConcat.shape[0]:\n",
        "    print(\"Unique records by user_id...\")\n",
        "  else:\n",
        "    print(\"Duplicate records by user_id found!\")\n",
        "  return dfConcat"
      ],
      "metadata": {
        "id": "wskqiZwAVsJk"
      },
      "execution_count": null,
      "outputs": []
    },
    {
      "cell_type": "code",
      "source": [
        "# Combine visit dates\n",
        "def getFirstLastVisits(df1, df2, dfConcat):\n",
        "  df = dfConcat.copy()\n",
        "  df = pd.merge(df, df1, how = \"left\", on = \"user_id\")\n",
        "  df = pd.merge(df, df2, how = \"left\", on = \"user_id\")\n",
        "  df = df.reset_index(drop = True)\n",
        "  return df"
      ],
      "metadata": {
        "id": "0ueqj8ud-AGU"
      },
      "execution_count": null,
      "outputs": []
    },
    {
      "cell_type": "code",
      "source": [
        "showDim(onlineDf, name = \"onlineDf\")\n",
        "showDim(offlineDf, name = \"offlineDf\")\n",
        "\n",
        "# Observations:\n",
        "# 1. More records online than offline\n",
        "# 2. Remove Unnamed: 0 columns\n",
        "# 3. Might need to convert date fields to datetime format"
      ],
      "metadata": {
        "colab": {
          "base_uri": "https://localhost:8080/"
        },
        "id": "_1Ym8iZL1KY7",
        "outputId": "66b0f1d9-a402-4017-8fd1-8e34e084aa12"
      },
      "execution_count": null,
      "outputs": [
        {
          "output_type": "stream",
          "name": "stdout",
          "text": [
            "Number of rows for onlineDf: 775248\n",
            "Number of columns for onlineDf: 8\n",
            "Columns for onlineDf are: Unnamed: 0, event_date, event_timestamp, event_name, user_pseudo_id, user_id, session_id, items\n",
            "Number of rows for offlineDf: 224\n",
            "Number of columns for offlineDf: 6\n",
            "Columns for offlineDf are: Unnamed: 0, event_date, event_timestamp, event_name, user_id, items\n"
          ]
        }
      ]
    },
    {
      "cell_type": "code",
      "source": [
        "# Show data types\n",
        "print(\"Data types for onlineDf:\\n\", onlineDf.dtypes)\n",
        "print(\"Data types for offlineDf:\\n\", offlineDf.dtypes)"
      ],
      "metadata": {
        "colab": {
          "base_uri": "https://localhost:8080/"
        },
        "id": "bsxjrJuB1hV5",
        "outputId": "7eca8f16-1ebf-4cf3-f342-9ffc5856b0ba"
      },
      "execution_count": null,
      "outputs": [
        {
          "output_type": "stream",
          "name": "stdout",
          "text": [
            "Data types for onlineDf:\n",
            " Unnamed: 0           int64\n",
            "event_date           int64\n",
            "event_timestamp      int64\n",
            "event_name          object\n",
            "user_pseudo_id     float64\n",
            "user_id            float64\n",
            "session_id           int64\n",
            "items               object\n",
            "dtype: object\n",
            "Data types for offlineDf:\n",
            " Unnamed: 0          int64\n",
            "event_date         object\n",
            "event_timestamp    object\n",
            "event_name         object\n",
            "user_id             int64\n",
            "items              object\n",
            "dtype: object\n"
          ]
        }
      ]
    },
    {
      "cell_type": "code",
      "source": [
        "onlineDfProcessed = toDate(onlineDf)"
      ],
      "metadata": {
        "id": "PekJ8Hi8DQ5b"
      },
      "execution_count": null,
      "outputs": []
    },
    {
      "cell_type": "code",
      "source": [
        "offlineDfProcessed = toDate(offlineDf)"
      ],
      "metadata": {
        "id": "rkPbQlbUDjss"
      },
      "execution_count": null,
      "outputs": []
    },
    {
      "cell_type": "code",
      "source": [
        "onlineDfProcessedRem = checkNull(onlineDfProcessed)"
      ],
      "metadata": {
        "colab": {
          "base_uri": "https://localhost:8080/"
        },
        "id": "iLrFVSFhDdL1",
        "outputId": "5466648e-cb0a-48c7-84e1-327de093e4b8"
      },
      "execution_count": null,
      "outputs": [
        {
          "output_type": "stream",
          "name": "stdout",
          "text": [
            "0.0% of 775248 records are null for column Unnamed: 0\n",
            "0.0% of 775248 records are null for column event_date\n",
            "0.0% of 775248 records are null for column event_timestamp\n",
            "0.0% of 775248 records are null for column event_name\n",
            "0.0% of 775248 records are null for column user_pseudo_id\n",
            "42.882793635069035% of 775248 records are null for column user_id\n",
            "0.0% of 775248 records are null for column session_id\n",
            "97.36845499762656% of 775248 records are null for column items\n",
            "Dropped column items because percentage of null values exceed threshold of 0.5\n",
            "0.0% of 775248 records are null for column event_date_new\n",
            "0.0% of 775248 records are null for column event_timestamp_new\n"
          ]
        }
      ]
    },
    {
      "cell_type": "code",
      "source": [
        "offlineDfProcessedRem = checkNull(offlineDfProcessed)"
      ],
      "metadata": {
        "colab": {
          "base_uri": "https://localhost:8080/"
        },
        "id": "oOFFWb2B9-Fd",
        "outputId": "6a11bb0e-fecb-4ff4-8dc4-9ffaa60a5bab"
      },
      "execution_count": null,
      "outputs": [
        {
          "output_type": "stream",
          "name": "stdout",
          "text": [
            "0.0% of 224 records are null for column Unnamed: 0\n",
            "0.0% of 224 records are null for column event_date\n",
            "0.0% of 224 records are null for column event_timestamp\n",
            "0.0% of 224 records are null for column event_name\n",
            "0.0% of 224 records are null for column user_id\n",
            "0.0% of 224 records are null for column items\n",
            "0.0% of 224 records are null for column event_date_new\n",
            "0.0% of 224 records are null for column event_timestamp_new\n"
          ]
        }
      ]
    },
    {
      "cell_type": "code",
      "source": [
        "onlineDfRem = removeColumns(onlineDfProcessedRem)"
      ],
      "metadata": {
        "colab": {
          "base_uri": "https://localhost:8080/"
        },
        "id": "Vf9tB-57-j-5",
        "outputId": "30f23fe6-63a1-4a61-9dfa-898a07f599e8"
      },
      "execution_count": null,
      "outputs": [
        {
          "output_type": "stream",
          "name": "stdout",
          "text": [
            "Dropped column Unnamed: 0...\n"
          ]
        }
      ]
    },
    {
      "cell_type": "code",
      "source": [
        "offlineDfRem = removeColumns(offlineDfProcessedRem)"
      ],
      "metadata": {
        "colab": {
          "base_uri": "https://localhost:8080/"
        },
        "id": "icLKUa8g-6Hm",
        "outputId": "ce300840-f513-4a26-ac4c-f93f65a02b1d"
      },
      "execution_count": null,
      "outputs": [
        {
          "output_type": "stream",
          "name": "stdout",
          "text": [
            "Dropped column Unnamed: 0...\n"
          ]
        }
      ]
    },
    {
      "cell_type": "code",
      "source": [
        "checkDates(onlineDfRem, name = \"online\")"
      ],
      "metadata": {
        "colab": {
          "base_uri": "https://localhost:8080/"
        },
        "id": "FLo-vP7b_YOI",
        "outputId": "a65251e1-dd3a-41be-e9eb-14c794a66713"
      },
      "execution_count": null,
      "outputs": [
        {
          "output_type": "stream",
          "name": "stdout",
          "text": [
            "Date range for online from 2022-02-17 00:00:00 to 2022-02-28 00:00:00\n"
          ]
        }
      ]
    },
    {
      "cell_type": "code",
      "source": [
        "checkDates(offlineDfRem, name = \"offline\")"
      ],
      "metadata": {
        "colab": {
          "base_uri": "https://localhost:8080/"
        },
        "id": "CEvglibcA1g2",
        "outputId": "ca8aa1f6-c38b-47dd-f79a-fcc98533d557"
      },
      "execution_count": null,
      "outputs": [
        {
          "output_type": "stream",
          "name": "stdout",
          "text": [
            "Date range for offline from 2022-02-21 00:00:00 to 2022-02-27 00:00:00\n"
          ]
        }
      ]
    },
    {
      "cell_type": "code",
      "source": [
        "dfItems = getItems(offlineDfRem)\n",
        "dfItems.head()"
      ],
      "metadata": {
        "colab": {
          "base_uri": "https://localhost:8080/",
          "height": 206
        },
        "id": "y0wgXeUN5jLg",
        "outputId": "4d2165de-2b58-4818-be68-6421472360bc"
      },
      "execution_count": null,
      "outputs": [
        {
          "output_type": "execute_result",
          "data": {
            "text/plain": [
              "           item_id item_brand    price  quantity  user_id\n",
              "0         40550133          E   758.00       1.0   136192\n",
              "1  50440764-MC4001         BD  1237.00       1.0   136192\n",
              "2         41960013         AX   888.29       1.0   136193\n",
              "3  50440257-PL4001         BK   844.63       1.0   136193\n",
              "4         40550076          U   750.68       1.0   136193"
            ],
            "text/html": [
              "\n",
              "  <div id=\"df-4aad31e8-dc9d-446e-b9df-117ae2c26d2c\">\n",
              "    <div class=\"colab-df-container\">\n",
              "      <div>\n",
              "<style scoped>\n",
              "    .dataframe tbody tr th:only-of-type {\n",
              "        vertical-align: middle;\n",
              "    }\n",
              "\n",
              "    .dataframe tbody tr th {\n",
              "        vertical-align: top;\n",
              "    }\n",
              "\n",
              "    .dataframe thead th {\n",
              "        text-align: right;\n",
              "    }\n",
              "</style>\n",
              "<table border=\"1\" class=\"dataframe\">\n",
              "  <thead>\n",
              "    <tr style=\"text-align: right;\">\n",
              "      <th></th>\n",
              "      <th>item_id</th>\n",
              "      <th>item_brand</th>\n",
              "      <th>price</th>\n",
              "      <th>quantity</th>\n",
              "      <th>user_id</th>\n",
              "    </tr>\n",
              "  </thead>\n",
              "  <tbody>\n",
              "    <tr>\n",
              "      <th>0</th>\n",
              "      <td>40550133</td>\n",
              "      <td>E</td>\n",
              "      <td>758.00</td>\n",
              "      <td>1.0</td>\n",
              "      <td>136192</td>\n",
              "    </tr>\n",
              "    <tr>\n",
              "      <th>1</th>\n",
              "      <td>50440764-MC4001</td>\n",
              "      <td>BD</td>\n",
              "      <td>1237.00</td>\n",
              "      <td>1.0</td>\n",
              "      <td>136192</td>\n",
              "    </tr>\n",
              "    <tr>\n",
              "      <th>2</th>\n",
              "      <td>41960013</td>\n",
              "      <td>AX</td>\n",
              "      <td>888.29</td>\n",
              "      <td>1.0</td>\n",
              "      <td>136193</td>\n",
              "    </tr>\n",
              "    <tr>\n",
              "      <th>3</th>\n",
              "      <td>50440257-PL4001</td>\n",
              "      <td>BK</td>\n",
              "      <td>844.63</td>\n",
              "      <td>1.0</td>\n",
              "      <td>136193</td>\n",
              "    </tr>\n",
              "    <tr>\n",
              "      <th>4</th>\n",
              "      <td>40550076</td>\n",
              "      <td>U</td>\n",
              "      <td>750.68</td>\n",
              "      <td>1.0</td>\n",
              "      <td>136193</td>\n",
              "    </tr>\n",
              "  </tbody>\n",
              "</table>\n",
              "</div>\n",
              "      <button class=\"colab-df-convert\" onclick=\"convertToInteractive('df-4aad31e8-dc9d-446e-b9df-117ae2c26d2c')\"\n",
              "              title=\"Convert this dataframe to an interactive table.\"\n",
              "              style=\"display:none;\">\n",
              "        \n",
              "  <svg xmlns=\"http://www.w3.org/2000/svg\" height=\"24px\"viewBox=\"0 0 24 24\"\n",
              "       width=\"24px\">\n",
              "    <path d=\"M0 0h24v24H0V0z\" fill=\"none\"/>\n",
              "    <path d=\"M18.56 5.44l.94 2.06.94-2.06 2.06-.94-2.06-.94-.94-2.06-.94 2.06-2.06.94zm-11 1L8.5 8.5l.94-2.06 2.06-.94-2.06-.94L8.5 2.5l-.94 2.06-2.06.94zm10 10l.94 2.06.94-2.06 2.06-.94-2.06-.94-.94-2.06-.94 2.06-2.06.94z\"/><path d=\"M17.41 7.96l-1.37-1.37c-.4-.4-.92-.59-1.43-.59-.52 0-1.04.2-1.43.59L10.3 9.45l-7.72 7.72c-.78.78-.78 2.05 0 2.83L4 21.41c.39.39.9.59 1.41.59.51 0 1.02-.2 1.41-.59l7.78-7.78 2.81-2.81c.8-.78.8-2.07 0-2.86zM5.41 20L4 18.59l7.72-7.72 1.47 1.35L5.41 20z\"/>\n",
              "  </svg>\n",
              "      </button>\n",
              "      \n",
              "  <style>\n",
              "    .colab-df-container {\n",
              "      display:flex;\n",
              "      flex-wrap:wrap;\n",
              "      gap: 12px;\n",
              "    }\n",
              "\n",
              "    .colab-df-convert {\n",
              "      background-color: #E8F0FE;\n",
              "      border: none;\n",
              "      border-radius: 50%;\n",
              "      cursor: pointer;\n",
              "      display: none;\n",
              "      fill: #1967D2;\n",
              "      height: 32px;\n",
              "      padding: 0 0 0 0;\n",
              "      width: 32px;\n",
              "    }\n",
              "\n",
              "    .colab-df-convert:hover {\n",
              "      background-color: #E2EBFA;\n",
              "      box-shadow: 0px 1px 2px rgba(60, 64, 67, 0.3), 0px 1px 3px 1px rgba(60, 64, 67, 0.15);\n",
              "      fill: #174EA6;\n",
              "    }\n",
              "\n",
              "    [theme=dark] .colab-df-convert {\n",
              "      background-color: #3B4455;\n",
              "      fill: #D2E3FC;\n",
              "    }\n",
              "\n",
              "    [theme=dark] .colab-df-convert:hover {\n",
              "      background-color: #434B5C;\n",
              "      box-shadow: 0px 1px 3px 1px rgba(0, 0, 0, 0.15);\n",
              "      filter: drop-shadow(0px 1px 2px rgba(0, 0, 0, 0.3));\n",
              "      fill: #FFFFFF;\n",
              "    }\n",
              "  </style>\n",
              "\n",
              "      <script>\n",
              "        const buttonEl =\n",
              "          document.querySelector('#df-4aad31e8-dc9d-446e-b9df-117ae2c26d2c button.colab-df-convert');\n",
              "        buttonEl.style.display =\n",
              "          google.colab.kernel.accessAllowed ? 'block' : 'none';\n",
              "\n",
              "        async function convertToInteractive(key) {\n",
              "          const element = document.querySelector('#df-4aad31e8-dc9d-446e-b9df-117ae2c26d2c');\n",
              "          const dataTable =\n",
              "            await google.colab.kernel.invokeFunction('convertToInteractive',\n",
              "                                                     [key], {});\n",
              "          if (!dataTable) return;\n",
              "\n",
              "          const docLinkHtml = 'Like what you see? Visit the ' +\n",
              "            '<a target=\"_blank\" href=https://colab.research.google.com/notebooks/data_table.ipynb>data table notebook</a>'\n",
              "            + ' to learn more about interactive tables.';\n",
              "          element.innerHTML = '';\n",
              "          dataTable['output_type'] = 'display_data';\n",
              "          await google.colab.output.renderOutput(dataTable, element);\n",
              "          const docLink = document.createElement('div');\n",
              "          docLink.innerHTML = docLinkHtml;\n",
              "          element.appendChild(docLink);\n",
              "        }\n",
              "      </script>\n",
              "    </div>\n",
              "  </div>\n",
              "  "
            ]
          },
          "metadata": {},
          "execution_count": 28
        }
      ]
    },
    {
      "cell_type": "code",
      "source": [
        "dfTotalItems = getTotalItems(dfItems)\n",
        "dfTotalItems.head()"
      ],
      "metadata": {
        "colab": {
          "base_uri": "https://localhost:8080/",
          "height": 206
        },
        "id": "bAfEjmFH6LpJ",
        "outputId": "2b332caf-3ed7-41d1-9af5-85b7328035e5"
      },
      "execution_count": null,
      "outputs": [
        {
          "output_type": "execute_result",
          "data": {
            "text/plain": [
              "   user_id  offlinePurchases\n",
              "0       60               1.0\n",
              "1     1488               1.0\n",
              "2     7269               2.0\n",
              "3     9899               1.0\n",
              "4    11391               2.0"
            ],
            "text/html": [
              "\n",
              "  <div id=\"df-66fe0e15-6a8e-4adf-9c30-416d4fb97bbe\">\n",
              "    <div class=\"colab-df-container\">\n",
              "      <div>\n",
              "<style scoped>\n",
              "    .dataframe tbody tr th:only-of-type {\n",
              "        vertical-align: middle;\n",
              "    }\n",
              "\n",
              "    .dataframe tbody tr th {\n",
              "        vertical-align: top;\n",
              "    }\n",
              "\n",
              "    .dataframe thead th {\n",
              "        text-align: right;\n",
              "    }\n",
              "</style>\n",
              "<table border=\"1\" class=\"dataframe\">\n",
              "  <thead>\n",
              "    <tr style=\"text-align: right;\">\n",
              "      <th></th>\n",
              "      <th>user_id</th>\n",
              "      <th>offlinePurchases</th>\n",
              "    </tr>\n",
              "  </thead>\n",
              "  <tbody>\n",
              "    <tr>\n",
              "      <th>0</th>\n",
              "      <td>60</td>\n",
              "      <td>1.0</td>\n",
              "    </tr>\n",
              "    <tr>\n",
              "      <th>1</th>\n",
              "      <td>1488</td>\n",
              "      <td>1.0</td>\n",
              "    </tr>\n",
              "    <tr>\n",
              "      <th>2</th>\n",
              "      <td>7269</td>\n",
              "      <td>2.0</td>\n",
              "    </tr>\n",
              "    <tr>\n",
              "      <th>3</th>\n",
              "      <td>9899</td>\n",
              "      <td>1.0</td>\n",
              "    </tr>\n",
              "    <tr>\n",
              "      <th>4</th>\n",
              "      <td>11391</td>\n",
              "      <td>2.0</td>\n",
              "    </tr>\n",
              "  </tbody>\n",
              "</table>\n",
              "</div>\n",
              "      <button class=\"colab-df-convert\" onclick=\"convertToInteractive('df-66fe0e15-6a8e-4adf-9c30-416d4fb97bbe')\"\n",
              "              title=\"Convert this dataframe to an interactive table.\"\n",
              "              style=\"display:none;\">\n",
              "        \n",
              "  <svg xmlns=\"http://www.w3.org/2000/svg\" height=\"24px\"viewBox=\"0 0 24 24\"\n",
              "       width=\"24px\">\n",
              "    <path d=\"M0 0h24v24H0V0z\" fill=\"none\"/>\n",
              "    <path d=\"M18.56 5.44l.94 2.06.94-2.06 2.06-.94-2.06-.94-.94-2.06-.94 2.06-2.06.94zm-11 1L8.5 8.5l.94-2.06 2.06-.94-2.06-.94L8.5 2.5l-.94 2.06-2.06.94zm10 10l.94 2.06.94-2.06 2.06-.94-2.06-.94-.94-2.06-.94 2.06-2.06.94z\"/><path d=\"M17.41 7.96l-1.37-1.37c-.4-.4-.92-.59-1.43-.59-.52 0-1.04.2-1.43.59L10.3 9.45l-7.72 7.72c-.78.78-.78 2.05 0 2.83L4 21.41c.39.39.9.59 1.41.59.51 0 1.02-.2 1.41-.59l7.78-7.78 2.81-2.81c.8-.78.8-2.07 0-2.86zM5.41 20L4 18.59l7.72-7.72 1.47 1.35L5.41 20z\"/>\n",
              "  </svg>\n",
              "      </button>\n",
              "      \n",
              "  <style>\n",
              "    .colab-df-container {\n",
              "      display:flex;\n",
              "      flex-wrap:wrap;\n",
              "      gap: 12px;\n",
              "    }\n",
              "\n",
              "    .colab-df-convert {\n",
              "      background-color: #E8F0FE;\n",
              "      border: none;\n",
              "      border-radius: 50%;\n",
              "      cursor: pointer;\n",
              "      display: none;\n",
              "      fill: #1967D2;\n",
              "      height: 32px;\n",
              "      padding: 0 0 0 0;\n",
              "      width: 32px;\n",
              "    }\n",
              "\n",
              "    .colab-df-convert:hover {\n",
              "      background-color: #E2EBFA;\n",
              "      box-shadow: 0px 1px 2px rgba(60, 64, 67, 0.3), 0px 1px 3px 1px rgba(60, 64, 67, 0.15);\n",
              "      fill: #174EA6;\n",
              "    }\n",
              "\n",
              "    [theme=dark] .colab-df-convert {\n",
              "      background-color: #3B4455;\n",
              "      fill: #D2E3FC;\n",
              "    }\n",
              "\n",
              "    [theme=dark] .colab-df-convert:hover {\n",
              "      background-color: #434B5C;\n",
              "      box-shadow: 0px 1px 3px 1px rgba(0, 0, 0, 0.15);\n",
              "      filter: drop-shadow(0px 1px 2px rgba(0, 0, 0, 0.3));\n",
              "      fill: #FFFFFF;\n",
              "    }\n",
              "  </style>\n",
              "\n",
              "      <script>\n",
              "        const buttonEl =\n",
              "          document.querySelector('#df-66fe0e15-6a8e-4adf-9c30-416d4fb97bbe button.colab-df-convert');\n",
              "        buttonEl.style.display =\n",
              "          google.colab.kernel.accessAllowed ? 'block' : 'none';\n",
              "\n",
              "        async function convertToInteractive(key) {\n",
              "          const element = document.querySelector('#df-66fe0e15-6a8e-4adf-9c30-416d4fb97bbe');\n",
              "          const dataTable =\n",
              "            await google.colab.kernel.invokeFunction('convertToInteractive',\n",
              "                                                     [key], {});\n",
              "          if (!dataTable) return;\n",
              "\n",
              "          const docLinkHtml = 'Like what you see? Visit the ' +\n",
              "            '<a target=\"_blank\" href=https://colab.research.google.com/notebooks/data_table.ipynb>data table notebook</a>'\n",
              "            + ' to learn more about interactive tables.';\n",
              "          element.innerHTML = '';\n",
              "          dataTable['output_type'] = 'display_data';\n",
              "          await google.colab.output.renderOutput(dataTable, element);\n",
              "          const docLink = document.createElement('div');\n",
              "          docLink.innerHTML = docLinkHtml;\n",
              "          element.appendChild(docLink);\n",
              "        }\n",
              "      </script>\n",
              "    </div>\n",
              "  </div>\n",
              "  "
            ]
          },
          "metadata": {},
          "execution_count": 29
        }
      ]
    },
    {
      "cell_type": "code",
      "source": [
        "dfMerge = doMerge(offlineDfRem, dfTotalItems, onlineDfRem)\n",
        "dfMerge.head()"
      ],
      "metadata": {
        "colab": {
          "base_uri": "https://localhost:8080/",
          "height": 206
        },
        "id": "zPRdCu8mJt0m",
        "outputId": "04673c0e-0908-4ef4-f9c1-9f95c5485b2d"
      },
      "execution_count": null,
      "outputs": [
        {
          "output_type": "execute_result",
          "data": {
            "text/plain": [
              "   user_id  offlineVisits  offlinePurchases  onlineVisits\n",
              "0       60              1               1.0          28.0\n",
              "1     1488              1               1.0          27.0\n",
              "2     7269              1               2.0          73.0\n",
              "3     9899              1               1.0          57.0\n",
              "4    11391              1               2.0           NaN"
            ],
            "text/html": [
              "\n",
              "  <div id=\"df-c4aad841-a7d0-4dc0-b2a3-28635025cc2b\">\n",
              "    <div class=\"colab-df-container\">\n",
              "      <div>\n",
              "<style scoped>\n",
              "    .dataframe tbody tr th:only-of-type {\n",
              "        vertical-align: middle;\n",
              "    }\n",
              "\n",
              "    .dataframe tbody tr th {\n",
              "        vertical-align: top;\n",
              "    }\n",
              "\n",
              "    .dataframe thead th {\n",
              "        text-align: right;\n",
              "    }\n",
              "</style>\n",
              "<table border=\"1\" class=\"dataframe\">\n",
              "  <thead>\n",
              "    <tr style=\"text-align: right;\">\n",
              "      <th></th>\n",
              "      <th>user_id</th>\n",
              "      <th>offlineVisits</th>\n",
              "      <th>offlinePurchases</th>\n",
              "      <th>onlineVisits</th>\n",
              "    </tr>\n",
              "  </thead>\n",
              "  <tbody>\n",
              "    <tr>\n",
              "      <th>0</th>\n",
              "      <td>60</td>\n",
              "      <td>1</td>\n",
              "      <td>1.0</td>\n",
              "      <td>28.0</td>\n",
              "    </tr>\n",
              "    <tr>\n",
              "      <th>1</th>\n",
              "      <td>1488</td>\n",
              "      <td>1</td>\n",
              "      <td>1.0</td>\n",
              "      <td>27.0</td>\n",
              "    </tr>\n",
              "    <tr>\n",
              "      <th>2</th>\n",
              "      <td>7269</td>\n",
              "      <td>1</td>\n",
              "      <td>2.0</td>\n",
              "      <td>73.0</td>\n",
              "    </tr>\n",
              "    <tr>\n",
              "      <th>3</th>\n",
              "      <td>9899</td>\n",
              "      <td>1</td>\n",
              "      <td>1.0</td>\n",
              "      <td>57.0</td>\n",
              "    </tr>\n",
              "    <tr>\n",
              "      <th>4</th>\n",
              "      <td>11391</td>\n",
              "      <td>1</td>\n",
              "      <td>2.0</td>\n",
              "      <td>NaN</td>\n",
              "    </tr>\n",
              "  </tbody>\n",
              "</table>\n",
              "</div>\n",
              "      <button class=\"colab-df-convert\" onclick=\"convertToInteractive('df-c4aad841-a7d0-4dc0-b2a3-28635025cc2b')\"\n",
              "              title=\"Convert this dataframe to an interactive table.\"\n",
              "              style=\"display:none;\">\n",
              "        \n",
              "  <svg xmlns=\"http://www.w3.org/2000/svg\" height=\"24px\"viewBox=\"0 0 24 24\"\n",
              "       width=\"24px\">\n",
              "    <path d=\"M0 0h24v24H0V0z\" fill=\"none\"/>\n",
              "    <path d=\"M18.56 5.44l.94 2.06.94-2.06 2.06-.94-2.06-.94-.94-2.06-.94 2.06-2.06.94zm-11 1L8.5 8.5l.94-2.06 2.06-.94-2.06-.94L8.5 2.5l-.94 2.06-2.06.94zm10 10l.94 2.06.94-2.06 2.06-.94-2.06-.94-.94-2.06-.94 2.06-2.06.94z\"/><path d=\"M17.41 7.96l-1.37-1.37c-.4-.4-.92-.59-1.43-.59-.52 0-1.04.2-1.43.59L10.3 9.45l-7.72 7.72c-.78.78-.78 2.05 0 2.83L4 21.41c.39.39.9.59 1.41.59.51 0 1.02-.2 1.41-.59l7.78-7.78 2.81-2.81c.8-.78.8-2.07 0-2.86zM5.41 20L4 18.59l7.72-7.72 1.47 1.35L5.41 20z\"/>\n",
              "  </svg>\n",
              "      </button>\n",
              "      \n",
              "  <style>\n",
              "    .colab-df-container {\n",
              "      display:flex;\n",
              "      flex-wrap:wrap;\n",
              "      gap: 12px;\n",
              "    }\n",
              "\n",
              "    .colab-df-convert {\n",
              "      background-color: #E8F0FE;\n",
              "      border: none;\n",
              "      border-radius: 50%;\n",
              "      cursor: pointer;\n",
              "      display: none;\n",
              "      fill: #1967D2;\n",
              "      height: 32px;\n",
              "      padding: 0 0 0 0;\n",
              "      width: 32px;\n",
              "    }\n",
              "\n",
              "    .colab-df-convert:hover {\n",
              "      background-color: #E2EBFA;\n",
              "      box-shadow: 0px 1px 2px rgba(60, 64, 67, 0.3), 0px 1px 3px 1px rgba(60, 64, 67, 0.15);\n",
              "      fill: #174EA6;\n",
              "    }\n",
              "\n",
              "    [theme=dark] .colab-df-convert {\n",
              "      background-color: #3B4455;\n",
              "      fill: #D2E3FC;\n",
              "    }\n",
              "\n",
              "    [theme=dark] .colab-df-convert:hover {\n",
              "      background-color: #434B5C;\n",
              "      box-shadow: 0px 1px 3px 1px rgba(0, 0, 0, 0.15);\n",
              "      filter: drop-shadow(0px 1px 2px rgba(0, 0, 0, 0.3));\n",
              "      fill: #FFFFFF;\n",
              "    }\n",
              "  </style>\n",
              "\n",
              "      <script>\n",
              "        const buttonEl =\n",
              "          document.querySelector('#df-c4aad841-a7d0-4dc0-b2a3-28635025cc2b button.colab-df-convert');\n",
              "        buttonEl.style.display =\n",
              "          google.colab.kernel.accessAllowed ? 'block' : 'none';\n",
              "\n",
              "        async function convertToInteractive(key) {\n",
              "          const element = document.querySelector('#df-c4aad841-a7d0-4dc0-b2a3-28635025cc2b');\n",
              "          const dataTable =\n",
              "            await google.colab.kernel.invokeFunction('convertToInteractive',\n",
              "                                                     [key], {});\n",
              "          if (!dataTable) return;\n",
              "\n",
              "          const docLinkHtml = 'Like what you see? Visit the ' +\n",
              "            '<a target=\"_blank\" href=https://colab.research.google.com/notebooks/data_table.ipynb>data table notebook</a>'\n",
              "            + ' to learn more about interactive tables.';\n",
              "          element.innerHTML = '';\n",
              "          dataTable['output_type'] = 'display_data';\n",
              "          await google.colab.output.renderOutput(dataTable, element);\n",
              "          const docLink = document.createElement('div');\n",
              "          docLink.innerHTML = docLinkHtml;\n",
              "          element.appendChild(docLink);\n",
              "        }\n",
              "      </script>\n",
              "    </div>\n",
              "  </div>\n",
              "  "
            ]
          },
          "metadata": {},
          "execution_count": 30
        }
      ]
    },
    {
      "cell_type": "code",
      "source": [
        "dfFeatures = getFeatures(dfMerge)\n",
        "dfFeatures.head()"
      ],
      "metadata": {
        "colab": {
          "base_uri": "https://localhost:8080/",
          "height": 206
        },
        "id": "uvFJIz2ofBr_",
        "outputId": "dbbd6de0-dba8-4113-fcc4-5a415bd4512f"
      },
      "execution_count": null,
      "outputs": [
        {
          "output_type": "execute_result",
          "data": {
            "text/plain": [
              "   user_id  offlineVisits  offlinePurchases  onlineVisits  \\\n",
              "0       60              1               1.0          28.0   \n",
              "1     1488              1               1.0          27.0   \n",
              "2     7269              1               2.0          73.0   \n",
              "3     9899              1               1.0          57.0   \n",
              "4    11391              1               2.0           0.0   \n",
              "\n",
              "   hasPurchasedOffline  hasVisitedOnline  \n",
              "0                    1                 1  \n",
              "1                    1                 1  \n",
              "2                    1                 1  \n",
              "3                    1                 1  \n",
              "4                    1                 0  "
            ],
            "text/html": [
              "\n",
              "  <div id=\"df-f050f6a2-e17c-4646-b04d-098e43ea7411\">\n",
              "    <div class=\"colab-df-container\">\n",
              "      <div>\n",
              "<style scoped>\n",
              "    .dataframe tbody tr th:only-of-type {\n",
              "        vertical-align: middle;\n",
              "    }\n",
              "\n",
              "    .dataframe tbody tr th {\n",
              "        vertical-align: top;\n",
              "    }\n",
              "\n",
              "    .dataframe thead th {\n",
              "        text-align: right;\n",
              "    }\n",
              "</style>\n",
              "<table border=\"1\" class=\"dataframe\">\n",
              "  <thead>\n",
              "    <tr style=\"text-align: right;\">\n",
              "      <th></th>\n",
              "      <th>user_id</th>\n",
              "      <th>offlineVisits</th>\n",
              "      <th>offlinePurchases</th>\n",
              "      <th>onlineVisits</th>\n",
              "      <th>hasPurchasedOffline</th>\n",
              "      <th>hasVisitedOnline</th>\n",
              "    </tr>\n",
              "  </thead>\n",
              "  <tbody>\n",
              "    <tr>\n",
              "      <th>0</th>\n",
              "      <td>60</td>\n",
              "      <td>1</td>\n",
              "      <td>1.0</td>\n",
              "      <td>28.0</td>\n",
              "      <td>1</td>\n",
              "      <td>1</td>\n",
              "    </tr>\n",
              "    <tr>\n",
              "      <th>1</th>\n",
              "      <td>1488</td>\n",
              "      <td>1</td>\n",
              "      <td>1.0</td>\n",
              "      <td>27.0</td>\n",
              "      <td>1</td>\n",
              "      <td>1</td>\n",
              "    </tr>\n",
              "    <tr>\n",
              "      <th>2</th>\n",
              "      <td>7269</td>\n",
              "      <td>1</td>\n",
              "      <td>2.0</td>\n",
              "      <td>73.0</td>\n",
              "      <td>1</td>\n",
              "      <td>1</td>\n",
              "    </tr>\n",
              "    <tr>\n",
              "      <th>3</th>\n",
              "      <td>9899</td>\n",
              "      <td>1</td>\n",
              "      <td>1.0</td>\n",
              "      <td>57.0</td>\n",
              "      <td>1</td>\n",
              "      <td>1</td>\n",
              "    </tr>\n",
              "    <tr>\n",
              "      <th>4</th>\n",
              "      <td>11391</td>\n",
              "      <td>1</td>\n",
              "      <td>2.0</td>\n",
              "      <td>0.0</td>\n",
              "      <td>1</td>\n",
              "      <td>0</td>\n",
              "    </tr>\n",
              "  </tbody>\n",
              "</table>\n",
              "</div>\n",
              "      <button class=\"colab-df-convert\" onclick=\"convertToInteractive('df-f050f6a2-e17c-4646-b04d-098e43ea7411')\"\n",
              "              title=\"Convert this dataframe to an interactive table.\"\n",
              "              style=\"display:none;\">\n",
              "        \n",
              "  <svg xmlns=\"http://www.w3.org/2000/svg\" height=\"24px\"viewBox=\"0 0 24 24\"\n",
              "       width=\"24px\">\n",
              "    <path d=\"M0 0h24v24H0V0z\" fill=\"none\"/>\n",
              "    <path d=\"M18.56 5.44l.94 2.06.94-2.06 2.06-.94-2.06-.94-.94-2.06-.94 2.06-2.06.94zm-11 1L8.5 8.5l.94-2.06 2.06-.94-2.06-.94L8.5 2.5l-.94 2.06-2.06.94zm10 10l.94 2.06.94-2.06 2.06-.94-2.06-.94-.94-2.06-.94 2.06-2.06.94z\"/><path d=\"M17.41 7.96l-1.37-1.37c-.4-.4-.92-.59-1.43-.59-.52 0-1.04.2-1.43.59L10.3 9.45l-7.72 7.72c-.78.78-.78 2.05 0 2.83L4 21.41c.39.39.9.59 1.41.59.51 0 1.02-.2 1.41-.59l7.78-7.78 2.81-2.81c.8-.78.8-2.07 0-2.86zM5.41 20L4 18.59l7.72-7.72 1.47 1.35L5.41 20z\"/>\n",
              "  </svg>\n",
              "      </button>\n",
              "      \n",
              "  <style>\n",
              "    .colab-df-container {\n",
              "      display:flex;\n",
              "      flex-wrap:wrap;\n",
              "      gap: 12px;\n",
              "    }\n",
              "\n",
              "    .colab-df-convert {\n",
              "      background-color: #E8F0FE;\n",
              "      border: none;\n",
              "      border-radius: 50%;\n",
              "      cursor: pointer;\n",
              "      display: none;\n",
              "      fill: #1967D2;\n",
              "      height: 32px;\n",
              "      padding: 0 0 0 0;\n",
              "      width: 32px;\n",
              "    }\n",
              "\n",
              "    .colab-df-convert:hover {\n",
              "      background-color: #E2EBFA;\n",
              "      box-shadow: 0px 1px 2px rgba(60, 64, 67, 0.3), 0px 1px 3px 1px rgba(60, 64, 67, 0.15);\n",
              "      fill: #174EA6;\n",
              "    }\n",
              "\n",
              "    [theme=dark] .colab-df-convert {\n",
              "      background-color: #3B4455;\n",
              "      fill: #D2E3FC;\n",
              "    }\n",
              "\n",
              "    [theme=dark] .colab-df-convert:hover {\n",
              "      background-color: #434B5C;\n",
              "      box-shadow: 0px 1px 3px 1px rgba(0, 0, 0, 0.15);\n",
              "      filter: drop-shadow(0px 1px 2px rgba(0, 0, 0, 0.3));\n",
              "      fill: #FFFFFF;\n",
              "    }\n",
              "  </style>\n",
              "\n",
              "      <script>\n",
              "        const buttonEl =\n",
              "          document.querySelector('#df-f050f6a2-e17c-4646-b04d-098e43ea7411 button.colab-df-convert');\n",
              "        buttonEl.style.display =\n",
              "          google.colab.kernel.accessAllowed ? 'block' : 'none';\n",
              "\n",
              "        async function convertToInteractive(key) {\n",
              "          const element = document.querySelector('#df-f050f6a2-e17c-4646-b04d-098e43ea7411');\n",
              "          const dataTable =\n",
              "            await google.colab.kernel.invokeFunction('convertToInteractive',\n",
              "                                                     [key], {});\n",
              "          if (!dataTable) return;\n",
              "\n",
              "          const docLinkHtml = 'Like what you see? Visit the ' +\n",
              "            '<a target=\"_blank\" href=https://colab.research.google.com/notebooks/data_table.ipynb>data table notebook</a>'\n",
              "            + ' to learn more about interactive tables.';\n",
              "          element.innerHTML = '';\n",
              "          dataTable['output_type'] = 'display_data';\n",
              "          await google.colab.output.renderOutput(dataTable, element);\n",
              "          const docLink = document.createElement('div');\n",
              "          docLink.innerHTML = docLinkHtml;\n",
              "          element.appendChild(docLink);\n",
              "        }\n",
              "      </script>\n",
              "    </div>\n",
              "  </div>\n",
              "  "
            ]
          },
          "metadata": {},
          "execution_count": 31
        }
      ]
    },
    {
      "cell_type": "code",
      "source": [
        "dfConcat = doConcat(dfFeatures, onlineDfRem)\n",
        "dfConcat.head()\n",
        "# Include days diff between max online visit day and min offline visit day to look at time taken in days"
      ],
      "metadata": {
        "colab": {
          "base_uri": "https://localhost:8080/",
          "height": 223
        },
        "id": "ogNACFwkWWFj",
        "outputId": "37efeeb4-2d61-4d12-a9ce-80a46dc69fdb"
      },
      "execution_count": null,
      "outputs": [
        {
          "output_type": "stream",
          "name": "stdout",
          "text": [
            "Unique records by user_id...\n"
          ]
        },
        {
          "output_type": "execute_result",
          "data": {
            "text/plain": [
              "   user_id  offlineVisits  offlinePurchases  onlineVisits  \\\n",
              "0     60.0              1               1.0          28.0   \n",
              "1   1488.0              1               1.0          27.0   \n",
              "2   7269.0              1               2.0          73.0   \n",
              "3   9899.0              1               1.0          57.0   \n",
              "4  11391.0              1               2.0           0.0   \n",
              "\n",
              "   hasPurchasedOffline  hasVisitedOnline  \n",
              "0                    1                 1  \n",
              "1                    1                 1  \n",
              "2                    1                 1  \n",
              "3                    1                 1  \n",
              "4                    1                 0  "
            ],
            "text/html": [
              "\n",
              "  <div id=\"df-ae8d97a0-0eb5-4ab2-996a-652a7defe9a4\">\n",
              "    <div class=\"colab-df-container\">\n",
              "      <div>\n",
              "<style scoped>\n",
              "    .dataframe tbody tr th:only-of-type {\n",
              "        vertical-align: middle;\n",
              "    }\n",
              "\n",
              "    .dataframe tbody tr th {\n",
              "        vertical-align: top;\n",
              "    }\n",
              "\n",
              "    .dataframe thead th {\n",
              "        text-align: right;\n",
              "    }\n",
              "</style>\n",
              "<table border=\"1\" class=\"dataframe\">\n",
              "  <thead>\n",
              "    <tr style=\"text-align: right;\">\n",
              "      <th></th>\n",
              "      <th>user_id</th>\n",
              "      <th>offlineVisits</th>\n",
              "      <th>offlinePurchases</th>\n",
              "      <th>onlineVisits</th>\n",
              "      <th>hasPurchasedOffline</th>\n",
              "      <th>hasVisitedOnline</th>\n",
              "    </tr>\n",
              "  </thead>\n",
              "  <tbody>\n",
              "    <tr>\n",
              "      <th>0</th>\n",
              "      <td>60.0</td>\n",
              "      <td>1</td>\n",
              "      <td>1.0</td>\n",
              "      <td>28.0</td>\n",
              "      <td>1</td>\n",
              "      <td>1</td>\n",
              "    </tr>\n",
              "    <tr>\n",
              "      <th>1</th>\n",
              "      <td>1488.0</td>\n",
              "      <td>1</td>\n",
              "      <td>1.0</td>\n",
              "      <td>27.0</td>\n",
              "      <td>1</td>\n",
              "      <td>1</td>\n",
              "    </tr>\n",
              "    <tr>\n",
              "      <th>2</th>\n",
              "      <td>7269.0</td>\n",
              "      <td>1</td>\n",
              "      <td>2.0</td>\n",
              "      <td>73.0</td>\n",
              "      <td>1</td>\n",
              "      <td>1</td>\n",
              "    </tr>\n",
              "    <tr>\n",
              "      <th>3</th>\n",
              "      <td>9899.0</td>\n",
              "      <td>1</td>\n",
              "      <td>1.0</td>\n",
              "      <td>57.0</td>\n",
              "      <td>1</td>\n",
              "      <td>1</td>\n",
              "    </tr>\n",
              "    <tr>\n",
              "      <th>4</th>\n",
              "      <td>11391.0</td>\n",
              "      <td>1</td>\n",
              "      <td>2.0</td>\n",
              "      <td>0.0</td>\n",
              "      <td>1</td>\n",
              "      <td>0</td>\n",
              "    </tr>\n",
              "  </tbody>\n",
              "</table>\n",
              "</div>\n",
              "      <button class=\"colab-df-convert\" onclick=\"convertToInteractive('df-ae8d97a0-0eb5-4ab2-996a-652a7defe9a4')\"\n",
              "              title=\"Convert this dataframe to an interactive table.\"\n",
              "              style=\"display:none;\">\n",
              "        \n",
              "  <svg xmlns=\"http://www.w3.org/2000/svg\" height=\"24px\"viewBox=\"0 0 24 24\"\n",
              "       width=\"24px\">\n",
              "    <path d=\"M0 0h24v24H0V0z\" fill=\"none\"/>\n",
              "    <path d=\"M18.56 5.44l.94 2.06.94-2.06 2.06-.94-2.06-.94-.94-2.06-.94 2.06-2.06.94zm-11 1L8.5 8.5l.94-2.06 2.06-.94-2.06-.94L8.5 2.5l-.94 2.06-2.06.94zm10 10l.94 2.06.94-2.06 2.06-.94-2.06-.94-.94-2.06-.94 2.06-2.06.94z\"/><path d=\"M17.41 7.96l-1.37-1.37c-.4-.4-.92-.59-1.43-.59-.52 0-1.04.2-1.43.59L10.3 9.45l-7.72 7.72c-.78.78-.78 2.05 0 2.83L4 21.41c.39.39.9.59 1.41.59.51 0 1.02-.2 1.41-.59l7.78-7.78 2.81-2.81c.8-.78.8-2.07 0-2.86zM5.41 20L4 18.59l7.72-7.72 1.47 1.35L5.41 20z\"/>\n",
              "  </svg>\n",
              "      </button>\n",
              "      \n",
              "  <style>\n",
              "    .colab-df-container {\n",
              "      display:flex;\n",
              "      flex-wrap:wrap;\n",
              "      gap: 12px;\n",
              "    }\n",
              "\n",
              "    .colab-df-convert {\n",
              "      background-color: #E8F0FE;\n",
              "      border: none;\n",
              "      border-radius: 50%;\n",
              "      cursor: pointer;\n",
              "      display: none;\n",
              "      fill: #1967D2;\n",
              "      height: 32px;\n",
              "      padding: 0 0 0 0;\n",
              "      width: 32px;\n",
              "    }\n",
              "\n",
              "    .colab-df-convert:hover {\n",
              "      background-color: #E2EBFA;\n",
              "      box-shadow: 0px 1px 2px rgba(60, 64, 67, 0.3), 0px 1px 3px 1px rgba(60, 64, 67, 0.15);\n",
              "      fill: #174EA6;\n",
              "    }\n",
              "\n",
              "    [theme=dark] .colab-df-convert {\n",
              "      background-color: #3B4455;\n",
              "      fill: #D2E3FC;\n",
              "    }\n",
              "\n",
              "    [theme=dark] .colab-df-convert:hover {\n",
              "      background-color: #434B5C;\n",
              "      box-shadow: 0px 1px 3px 1px rgba(0, 0, 0, 0.15);\n",
              "      filter: drop-shadow(0px 1px 2px rgba(0, 0, 0, 0.3));\n",
              "      fill: #FFFFFF;\n",
              "    }\n",
              "  </style>\n",
              "\n",
              "      <script>\n",
              "        const buttonEl =\n",
              "          document.querySelector('#df-ae8d97a0-0eb5-4ab2-996a-652a7defe9a4 button.colab-df-convert');\n",
              "        buttonEl.style.display =\n",
              "          google.colab.kernel.accessAllowed ? 'block' : 'none';\n",
              "\n",
              "        async function convertToInteractive(key) {\n",
              "          const element = document.querySelector('#df-ae8d97a0-0eb5-4ab2-996a-652a7defe9a4');\n",
              "          const dataTable =\n",
              "            await google.colab.kernel.invokeFunction('convertToInteractive',\n",
              "                                                     [key], {});\n",
              "          if (!dataTable) return;\n",
              "\n",
              "          const docLinkHtml = 'Like what you see? Visit the ' +\n",
              "            '<a target=\"_blank\" href=https://colab.research.google.com/notebooks/data_table.ipynb>data table notebook</a>'\n",
              "            + ' to learn more about interactive tables.';\n",
              "          element.innerHTML = '';\n",
              "          dataTable['output_type'] = 'display_data';\n",
              "          await google.colab.output.renderOutput(dataTable, element);\n",
              "          const docLink = document.createElement('div');\n",
              "          docLink.innerHTML = docLinkHtml;\n",
              "          element.appendChild(docLink);\n",
              "        }\n",
              "      </script>\n",
              "    </div>\n",
              "  </div>\n",
              "  "
            ]
          },
          "metadata": {},
          "execution_count": 49
        }
      ]
    },
    {
      "cell_type": "code",
      "source": [
        "lastOnlineVisit = getFirstOrLastVisit(onlineDfRem, method = \"min\", type = \"online\")\n",
        "firstOfflineVisit = getFirstOrLastVisit(offlineDfRem, method = \"min\", type = \"offline\")\n",
        "dfConcat = getFirstLastVisits(lastOnlineVisit, firstOfflineVisit, dfConcat)\n",
        "dfConcat[\"days_between\"] = dfConcat[\"min_offline_visit_date\"] - dfConcat[\"min_online_visit_date\"]\n",
        "dfConcat[\"days_between_v2\"] = dfConcat[\"days_between\"].apply(lambda x: float(x.days) if x.days >= 0 else None) # Only for users who first visited online on or before they first visited the physical store\n",
        "dfConcat.head()"
      ],
      "metadata": {
        "colab": {
          "base_uri": "https://localhost:8080/",
          "height": 250
        },
        "id": "P4j1abJg-li7",
        "outputId": "ca4644ba-a51e-42da-bafc-42a4a63c3591"
      },
      "execution_count": null,
      "outputs": [
        {
          "output_type": "execute_result",
          "data": {
            "text/plain": [
              "   user_id  offlineVisits  offlinePurchases  onlineVisits  \\\n",
              "0     60.0              1               1.0          28.0   \n",
              "1   1488.0              1               1.0          27.0   \n",
              "2   7269.0              1               2.0          73.0   \n",
              "3   9899.0              1               1.0          57.0   \n",
              "4  11391.0              1               2.0           0.0   \n",
              "\n",
              "   hasPurchasedOffline  hasVisitedOnline min_online_visit_date  \\\n",
              "0                    1                 1            2022-02-21   \n",
              "1                    1                 1            2022-02-19   \n",
              "2                    1                 1            2022-02-17   \n",
              "3                    1                 1            2022-02-18   \n",
              "4                    1                 0                   NaT   \n",
              "\n",
              "  min_offline_visit_date days_between  days_between_v2  \n",
              "0             2022-02-22       1 days              1.0  \n",
              "1             2022-02-23       4 days              4.0  \n",
              "2             2022-02-26       9 days              9.0  \n",
              "3             2022-02-21       3 days              3.0  \n",
              "4             2022-02-27          NaT              NaN  "
            ],
            "text/html": [
              "\n",
              "  <div id=\"df-56cc7e33-6726-4dd7-b2ae-2deedcf9a3fa\">\n",
              "    <div class=\"colab-df-container\">\n",
              "      <div>\n",
              "<style scoped>\n",
              "    .dataframe tbody tr th:only-of-type {\n",
              "        vertical-align: middle;\n",
              "    }\n",
              "\n",
              "    .dataframe tbody tr th {\n",
              "        vertical-align: top;\n",
              "    }\n",
              "\n",
              "    .dataframe thead th {\n",
              "        text-align: right;\n",
              "    }\n",
              "</style>\n",
              "<table border=\"1\" class=\"dataframe\">\n",
              "  <thead>\n",
              "    <tr style=\"text-align: right;\">\n",
              "      <th></th>\n",
              "      <th>user_id</th>\n",
              "      <th>offlineVisits</th>\n",
              "      <th>offlinePurchases</th>\n",
              "      <th>onlineVisits</th>\n",
              "      <th>hasPurchasedOffline</th>\n",
              "      <th>hasVisitedOnline</th>\n",
              "      <th>min_online_visit_date</th>\n",
              "      <th>min_offline_visit_date</th>\n",
              "      <th>days_between</th>\n",
              "      <th>days_between_v2</th>\n",
              "    </tr>\n",
              "  </thead>\n",
              "  <tbody>\n",
              "    <tr>\n",
              "      <th>0</th>\n",
              "      <td>60.0</td>\n",
              "      <td>1</td>\n",
              "      <td>1.0</td>\n",
              "      <td>28.0</td>\n",
              "      <td>1</td>\n",
              "      <td>1</td>\n",
              "      <td>2022-02-21</td>\n",
              "      <td>2022-02-22</td>\n",
              "      <td>1 days</td>\n",
              "      <td>1.0</td>\n",
              "    </tr>\n",
              "    <tr>\n",
              "      <th>1</th>\n",
              "      <td>1488.0</td>\n",
              "      <td>1</td>\n",
              "      <td>1.0</td>\n",
              "      <td>27.0</td>\n",
              "      <td>1</td>\n",
              "      <td>1</td>\n",
              "      <td>2022-02-19</td>\n",
              "      <td>2022-02-23</td>\n",
              "      <td>4 days</td>\n",
              "      <td>4.0</td>\n",
              "    </tr>\n",
              "    <tr>\n",
              "      <th>2</th>\n",
              "      <td>7269.0</td>\n",
              "      <td>1</td>\n",
              "      <td>2.0</td>\n",
              "      <td>73.0</td>\n",
              "      <td>1</td>\n",
              "      <td>1</td>\n",
              "      <td>2022-02-17</td>\n",
              "      <td>2022-02-26</td>\n",
              "      <td>9 days</td>\n",
              "      <td>9.0</td>\n",
              "    </tr>\n",
              "    <tr>\n",
              "      <th>3</th>\n",
              "      <td>9899.0</td>\n",
              "      <td>1</td>\n",
              "      <td>1.0</td>\n",
              "      <td>57.0</td>\n",
              "      <td>1</td>\n",
              "      <td>1</td>\n",
              "      <td>2022-02-18</td>\n",
              "      <td>2022-02-21</td>\n",
              "      <td>3 days</td>\n",
              "      <td>3.0</td>\n",
              "    </tr>\n",
              "    <tr>\n",
              "      <th>4</th>\n",
              "      <td>11391.0</td>\n",
              "      <td>1</td>\n",
              "      <td>2.0</td>\n",
              "      <td>0.0</td>\n",
              "      <td>1</td>\n",
              "      <td>0</td>\n",
              "      <td>NaT</td>\n",
              "      <td>2022-02-27</td>\n",
              "      <td>NaT</td>\n",
              "      <td>NaN</td>\n",
              "    </tr>\n",
              "  </tbody>\n",
              "</table>\n",
              "</div>\n",
              "      <button class=\"colab-df-convert\" onclick=\"convertToInteractive('df-56cc7e33-6726-4dd7-b2ae-2deedcf9a3fa')\"\n",
              "              title=\"Convert this dataframe to an interactive table.\"\n",
              "              style=\"display:none;\">\n",
              "        \n",
              "  <svg xmlns=\"http://www.w3.org/2000/svg\" height=\"24px\"viewBox=\"0 0 24 24\"\n",
              "       width=\"24px\">\n",
              "    <path d=\"M0 0h24v24H0V0z\" fill=\"none\"/>\n",
              "    <path d=\"M18.56 5.44l.94 2.06.94-2.06 2.06-.94-2.06-.94-.94-2.06-.94 2.06-2.06.94zm-11 1L8.5 8.5l.94-2.06 2.06-.94-2.06-.94L8.5 2.5l-.94 2.06-2.06.94zm10 10l.94 2.06.94-2.06 2.06-.94-2.06-.94-.94-2.06-.94 2.06-2.06.94z\"/><path d=\"M17.41 7.96l-1.37-1.37c-.4-.4-.92-.59-1.43-.59-.52 0-1.04.2-1.43.59L10.3 9.45l-7.72 7.72c-.78.78-.78 2.05 0 2.83L4 21.41c.39.39.9.59 1.41.59.51 0 1.02-.2 1.41-.59l7.78-7.78 2.81-2.81c.8-.78.8-2.07 0-2.86zM5.41 20L4 18.59l7.72-7.72 1.47 1.35L5.41 20z\"/>\n",
              "  </svg>\n",
              "      </button>\n",
              "      \n",
              "  <style>\n",
              "    .colab-df-container {\n",
              "      display:flex;\n",
              "      flex-wrap:wrap;\n",
              "      gap: 12px;\n",
              "    }\n",
              "\n",
              "    .colab-df-convert {\n",
              "      background-color: #E8F0FE;\n",
              "      border: none;\n",
              "      border-radius: 50%;\n",
              "      cursor: pointer;\n",
              "      display: none;\n",
              "      fill: #1967D2;\n",
              "      height: 32px;\n",
              "      padding: 0 0 0 0;\n",
              "      width: 32px;\n",
              "    }\n",
              "\n",
              "    .colab-df-convert:hover {\n",
              "      background-color: #E2EBFA;\n",
              "      box-shadow: 0px 1px 2px rgba(60, 64, 67, 0.3), 0px 1px 3px 1px rgba(60, 64, 67, 0.15);\n",
              "      fill: #174EA6;\n",
              "    }\n",
              "\n",
              "    [theme=dark] .colab-df-convert {\n",
              "      background-color: #3B4455;\n",
              "      fill: #D2E3FC;\n",
              "    }\n",
              "\n",
              "    [theme=dark] .colab-df-convert:hover {\n",
              "      background-color: #434B5C;\n",
              "      box-shadow: 0px 1px 3px 1px rgba(0, 0, 0, 0.15);\n",
              "      filter: drop-shadow(0px 1px 2px rgba(0, 0, 0, 0.3));\n",
              "      fill: #FFFFFF;\n",
              "    }\n",
              "  </style>\n",
              "\n",
              "      <script>\n",
              "        const buttonEl =\n",
              "          document.querySelector('#df-56cc7e33-6726-4dd7-b2ae-2deedcf9a3fa button.colab-df-convert');\n",
              "        buttonEl.style.display =\n",
              "          google.colab.kernel.accessAllowed ? 'block' : 'none';\n",
              "\n",
              "        async function convertToInteractive(key) {\n",
              "          const element = document.querySelector('#df-56cc7e33-6726-4dd7-b2ae-2deedcf9a3fa');\n",
              "          const dataTable =\n",
              "            await google.colab.kernel.invokeFunction('convertToInteractive',\n",
              "                                                     [key], {});\n",
              "          if (!dataTable) return;\n",
              "\n",
              "          const docLinkHtml = 'Like what you see? Visit the ' +\n",
              "            '<a target=\"_blank\" href=https://colab.research.google.com/notebooks/data_table.ipynb>data table notebook</a>'\n",
              "            + ' to learn more about interactive tables.';\n",
              "          element.innerHTML = '';\n",
              "          dataTable['output_type'] = 'display_data';\n",
              "          await google.colab.output.renderOutput(dataTable, element);\n",
              "          const docLink = document.createElement('div');\n",
              "          docLink.innerHTML = docLinkHtml;\n",
              "          element.appendChild(docLink);\n",
              "        }\n",
              "      </script>\n",
              "    </div>\n",
              "  </div>\n",
              "  "
            ]
          },
          "metadata": {},
          "execution_count": 50
        }
      ]
    },
    {
      "cell_type": "markdown",
      "source": [
        "Summary of findings from data preparation:\n",
        "\n",
        "\n",
        "*   Online visits are captured from 17 to 28 February 2022, over 2 days while offline visits/purchases are captured from 21 to 27 February 2022. What this means is that we are unable to see users who made online visits between 17 and 18 Feb, and made their way down to the physical store on the day itself till before 21 Feb or after 27 Feb 2022\n",
        "*   Anyone who visited physical store made at least one purchase (visualised in next section)\n",
        "*   Able to map both datasets (online and offline) by `user_id` and not by `user_session_id`, which means about 42.9% of records in the online dataset will not be mapped to the offline dataset\n",
        "*   We should add fields like `channel` to design attribution models and determine the most effective channel in terms of reach\n",
        "\n",
        "\n",
        "\n",
        "\n",
        "\n"
      ],
      "metadata": {
        "id": "e9csMyV4ngx8"
      }
    },
    {
      "cell_type": "markdown",
      "source": [
        "## 2. Exploratory data analyses\n",
        "\n",
        "\n",
        "*   Let's find answers to important questions using aggregations and visuals\n",
        "\n"
      ],
      "metadata": {
        "id": "M5endecjm7pt"
      }
    },
    {
      "cell_type": "markdown",
      "source": [
        "Question 1: How many users do we have in this prepared dataset?"
      ],
      "metadata": {
        "id": "DQ9Puv09nazG"
      }
    },
    {
      "cell_type": "code",
      "source": [
        "print(f\"We have {dfConcat.shape[0]} users\")"
      ],
      "metadata": {
        "colab": {
          "base_uri": "https://localhost:8080/"
        },
        "id": "h9JBXbumpnNw",
        "outputId": "2d307917-4d4d-4296-9d37-9cf5a5d34a61"
      },
      "execution_count": null,
      "outputs": [
        {
          "output_type": "stream",
          "name": "stdout",
          "text": [
            "We have 4030 users\n"
          ]
        }
      ]
    },
    {
      "cell_type": "markdown",
      "source": [
        "Question 2: How many users made online visits and how many else did not?"
      ],
      "metadata": {
        "id": "tZ4AE4TJpu1R"
      }
    },
    {
      "cell_type": "code",
      "source": [
        "q2 = pd.DataFrame(dfConcat.groupby(\"hasVisitedOnline\").size()).reset_index(drop = False, inplace = False)\n",
        "q2 = q2.rename(columns = {0: \"users\"}, inplace = False)\n",
        "q2[\"hasVisitedOnline\"] = q2[\"hasVisitedOnline\"].apply(lambda x: \"Yes\" if x == 1 else \"No\")\n",
        "fig = px.bar(q2, x = \"hasVisitedOnline\", y = \"users\", text_auto = True, width = 720)\n",
        "fig.update_layout(title = \"Number of users who did not visit online vs those who did\", bargap = 0.05)\n",
        "fig.update_traces(marker_line=dict(width=2, color= 'black'))\n",
        "fig.show()"
      ],
      "metadata": {
        "colab": {
          "base_uri": "https://localhost:8080/",
          "height": 542
        },
        "id": "EO8105VnrHeJ",
        "outputId": "32a0adb3-2108-4a23-d74d-45663cdc4030"
      },
      "execution_count": null,
      "outputs": [
        {
          "output_type": "display_data",
          "data": {
            "text/html": [
              "<html>\n",
              "<head><meta charset=\"utf-8\" /></head>\n",
              "<body>\n",
              "    <div>            <script src=\"https://cdnjs.cloudflare.com/ajax/libs/mathjax/2.7.5/MathJax.js?config=TeX-AMS-MML_SVG\"></script><script type=\"text/javascript\">if (window.MathJax) {MathJax.Hub.Config({SVG: {font: \"STIX-Web\"}});}</script>                <script type=\"text/javascript\">window.PlotlyConfig = {MathJaxConfig: 'local'};</script>\n",
              "        <script src=\"https://cdn.plot.ly/plotly-2.8.3.min.js\"></script>                <div id=\"1debb533-dc6b-4aab-b357-82be92a922b5\" class=\"plotly-graph-div\" style=\"height:525px; width:720px;\"></div>            <script type=\"text/javascript\">                                    window.PLOTLYENV=window.PLOTLYENV || {};                                    if (document.getElementById(\"1debb533-dc6b-4aab-b357-82be92a922b5\")) {                    Plotly.newPlot(                        \"1debb533-dc6b-4aab-b357-82be92a922b5\",                        [{\"alignmentgroup\":\"True\",\"hovertemplate\":\"hasVisitedOnline=%{x}<br>users=%{y}<extra></extra>\",\"legendgroup\":\"\",\"marker\":{\"color\":\"#636efa\",\"pattern\":{\"shape\":\"\"},\"line\":{\"color\":\"black\",\"width\":2}},\"name\":\"\",\"offsetgroup\":\"\",\"orientation\":\"v\",\"showlegend\":false,\"textposition\":\"auto\",\"texttemplate\":\"%{y}\",\"x\":[\"No\",\"Yes\"],\"xaxis\":\"x\",\"y\":[73,3957],\"yaxis\":\"y\",\"type\":\"bar\"}],                        {\"template\":{\"data\":{\"bar\":[{\"error_x\":{\"color\":\"#2a3f5f\"},\"error_y\":{\"color\":\"#2a3f5f\"},\"marker\":{\"line\":{\"color\":\"#E5ECF6\",\"width\":0.5},\"pattern\":{\"fillmode\":\"overlay\",\"size\":10,\"solidity\":0.2}},\"type\":\"bar\"}],\"barpolar\":[{\"marker\":{\"line\":{\"color\":\"#E5ECF6\",\"width\":0.5},\"pattern\":{\"fillmode\":\"overlay\",\"size\":10,\"solidity\":0.2}},\"type\":\"barpolar\"}],\"carpet\":[{\"aaxis\":{\"endlinecolor\":\"#2a3f5f\",\"gridcolor\":\"white\",\"linecolor\":\"white\",\"minorgridcolor\":\"white\",\"startlinecolor\":\"#2a3f5f\"},\"baxis\":{\"endlinecolor\":\"#2a3f5f\",\"gridcolor\":\"white\",\"linecolor\":\"white\",\"minorgridcolor\":\"white\",\"startlinecolor\":\"#2a3f5f\"},\"type\":\"carpet\"}],\"choropleth\":[{\"colorbar\":{\"outlinewidth\":0,\"ticks\":\"\"},\"type\":\"choropleth\"}],\"contour\":[{\"colorbar\":{\"outlinewidth\":0,\"ticks\":\"\"},\"colorscale\":[[0.0,\"#0d0887\"],[0.1111111111111111,\"#46039f\"],[0.2222222222222222,\"#7201a8\"],[0.3333333333333333,\"#9c179e\"],[0.4444444444444444,\"#bd3786\"],[0.5555555555555556,\"#d8576b\"],[0.6666666666666666,\"#ed7953\"],[0.7777777777777778,\"#fb9f3a\"],[0.8888888888888888,\"#fdca26\"],[1.0,\"#f0f921\"]],\"type\":\"contour\"}],\"contourcarpet\":[{\"colorbar\":{\"outlinewidth\":0,\"ticks\":\"\"},\"type\":\"contourcarpet\"}],\"heatmap\":[{\"colorbar\":{\"outlinewidth\":0,\"ticks\":\"\"},\"colorscale\":[[0.0,\"#0d0887\"],[0.1111111111111111,\"#46039f\"],[0.2222222222222222,\"#7201a8\"],[0.3333333333333333,\"#9c179e\"],[0.4444444444444444,\"#bd3786\"],[0.5555555555555556,\"#d8576b\"],[0.6666666666666666,\"#ed7953\"],[0.7777777777777778,\"#fb9f3a\"],[0.8888888888888888,\"#fdca26\"],[1.0,\"#f0f921\"]],\"type\":\"heatmap\"}],\"heatmapgl\":[{\"colorbar\":{\"outlinewidth\":0,\"ticks\":\"\"},\"colorscale\":[[0.0,\"#0d0887\"],[0.1111111111111111,\"#46039f\"],[0.2222222222222222,\"#7201a8\"],[0.3333333333333333,\"#9c179e\"],[0.4444444444444444,\"#bd3786\"],[0.5555555555555556,\"#d8576b\"],[0.6666666666666666,\"#ed7953\"],[0.7777777777777778,\"#fb9f3a\"],[0.8888888888888888,\"#fdca26\"],[1.0,\"#f0f921\"]],\"type\":\"heatmapgl\"}],\"histogram\":[{\"marker\":{\"pattern\":{\"fillmode\":\"overlay\",\"size\":10,\"solidity\":0.2}},\"type\":\"histogram\"}],\"histogram2d\":[{\"colorbar\":{\"outlinewidth\":0,\"ticks\":\"\"},\"colorscale\":[[0.0,\"#0d0887\"],[0.1111111111111111,\"#46039f\"],[0.2222222222222222,\"#7201a8\"],[0.3333333333333333,\"#9c179e\"],[0.4444444444444444,\"#bd3786\"],[0.5555555555555556,\"#d8576b\"],[0.6666666666666666,\"#ed7953\"],[0.7777777777777778,\"#fb9f3a\"],[0.8888888888888888,\"#fdca26\"],[1.0,\"#f0f921\"]],\"type\":\"histogram2d\"}],\"histogram2dcontour\":[{\"colorbar\":{\"outlinewidth\":0,\"ticks\":\"\"},\"colorscale\":[[0.0,\"#0d0887\"],[0.1111111111111111,\"#46039f\"],[0.2222222222222222,\"#7201a8\"],[0.3333333333333333,\"#9c179e\"],[0.4444444444444444,\"#bd3786\"],[0.5555555555555556,\"#d8576b\"],[0.6666666666666666,\"#ed7953\"],[0.7777777777777778,\"#fb9f3a\"],[0.8888888888888888,\"#fdca26\"],[1.0,\"#f0f921\"]],\"type\":\"histogram2dcontour\"}],\"mesh3d\":[{\"colorbar\":{\"outlinewidth\":0,\"ticks\":\"\"},\"type\":\"mesh3d\"}],\"parcoords\":[{\"line\":{\"colorbar\":{\"outlinewidth\":0,\"ticks\":\"\"}},\"type\":\"parcoords\"}],\"pie\":[{\"automargin\":true,\"type\":\"pie\"}],\"scatter\":[{\"marker\":{\"colorbar\":{\"outlinewidth\":0,\"ticks\":\"\"}},\"type\":\"scatter\"}],\"scatter3d\":[{\"line\":{\"colorbar\":{\"outlinewidth\":0,\"ticks\":\"\"}},\"marker\":{\"colorbar\":{\"outlinewidth\":0,\"ticks\":\"\"}},\"type\":\"scatter3d\"}],\"scattercarpet\":[{\"marker\":{\"colorbar\":{\"outlinewidth\":0,\"ticks\":\"\"}},\"type\":\"scattercarpet\"}],\"scattergeo\":[{\"marker\":{\"colorbar\":{\"outlinewidth\":0,\"ticks\":\"\"}},\"type\":\"scattergeo\"}],\"scattergl\":[{\"marker\":{\"colorbar\":{\"outlinewidth\":0,\"ticks\":\"\"}},\"type\":\"scattergl\"}],\"scattermapbox\":[{\"marker\":{\"colorbar\":{\"outlinewidth\":0,\"ticks\":\"\"}},\"type\":\"scattermapbox\"}],\"scatterpolar\":[{\"marker\":{\"colorbar\":{\"outlinewidth\":0,\"ticks\":\"\"}},\"type\":\"scatterpolar\"}],\"scatterpolargl\":[{\"marker\":{\"colorbar\":{\"outlinewidth\":0,\"ticks\":\"\"}},\"type\":\"scatterpolargl\"}],\"scatterternary\":[{\"marker\":{\"colorbar\":{\"outlinewidth\":0,\"ticks\":\"\"}},\"type\":\"scatterternary\"}],\"surface\":[{\"colorbar\":{\"outlinewidth\":0,\"ticks\":\"\"},\"colorscale\":[[0.0,\"#0d0887\"],[0.1111111111111111,\"#46039f\"],[0.2222222222222222,\"#7201a8\"],[0.3333333333333333,\"#9c179e\"],[0.4444444444444444,\"#bd3786\"],[0.5555555555555556,\"#d8576b\"],[0.6666666666666666,\"#ed7953\"],[0.7777777777777778,\"#fb9f3a\"],[0.8888888888888888,\"#fdca26\"],[1.0,\"#f0f921\"]],\"type\":\"surface\"}],\"table\":[{\"cells\":{\"fill\":{\"color\":\"#EBF0F8\"},\"line\":{\"color\":\"white\"}},\"header\":{\"fill\":{\"color\":\"#C8D4E3\"},\"line\":{\"color\":\"white\"}},\"type\":\"table\"}]},\"layout\":{\"annotationdefaults\":{\"arrowcolor\":\"#2a3f5f\",\"arrowhead\":0,\"arrowwidth\":1},\"autotypenumbers\":\"strict\",\"coloraxis\":{\"colorbar\":{\"outlinewidth\":0,\"ticks\":\"\"}},\"colorscale\":{\"diverging\":[[0,\"#8e0152\"],[0.1,\"#c51b7d\"],[0.2,\"#de77ae\"],[0.3,\"#f1b6da\"],[0.4,\"#fde0ef\"],[0.5,\"#f7f7f7\"],[0.6,\"#e6f5d0\"],[0.7,\"#b8e186\"],[0.8,\"#7fbc41\"],[0.9,\"#4d9221\"],[1,\"#276419\"]],\"sequential\":[[0.0,\"#0d0887\"],[0.1111111111111111,\"#46039f\"],[0.2222222222222222,\"#7201a8\"],[0.3333333333333333,\"#9c179e\"],[0.4444444444444444,\"#bd3786\"],[0.5555555555555556,\"#d8576b\"],[0.6666666666666666,\"#ed7953\"],[0.7777777777777778,\"#fb9f3a\"],[0.8888888888888888,\"#fdca26\"],[1.0,\"#f0f921\"]],\"sequentialminus\":[[0.0,\"#0d0887\"],[0.1111111111111111,\"#46039f\"],[0.2222222222222222,\"#7201a8\"],[0.3333333333333333,\"#9c179e\"],[0.4444444444444444,\"#bd3786\"],[0.5555555555555556,\"#d8576b\"],[0.6666666666666666,\"#ed7953\"],[0.7777777777777778,\"#fb9f3a\"],[0.8888888888888888,\"#fdca26\"],[1.0,\"#f0f921\"]]},\"colorway\":[\"#636efa\",\"#EF553B\",\"#00cc96\",\"#ab63fa\",\"#FFA15A\",\"#19d3f3\",\"#FF6692\",\"#B6E880\",\"#FF97FF\",\"#FECB52\"],\"font\":{\"color\":\"#2a3f5f\"},\"geo\":{\"bgcolor\":\"white\",\"lakecolor\":\"white\",\"landcolor\":\"#E5ECF6\",\"showlakes\":true,\"showland\":true,\"subunitcolor\":\"white\"},\"hoverlabel\":{\"align\":\"left\"},\"hovermode\":\"closest\",\"mapbox\":{\"style\":\"light\"},\"paper_bgcolor\":\"white\",\"plot_bgcolor\":\"#E5ECF6\",\"polar\":{\"angularaxis\":{\"gridcolor\":\"white\",\"linecolor\":\"white\",\"ticks\":\"\"},\"bgcolor\":\"#E5ECF6\",\"radialaxis\":{\"gridcolor\":\"white\",\"linecolor\":\"white\",\"ticks\":\"\"}},\"scene\":{\"xaxis\":{\"backgroundcolor\":\"#E5ECF6\",\"gridcolor\":\"white\",\"gridwidth\":2,\"linecolor\":\"white\",\"showbackground\":true,\"ticks\":\"\",\"zerolinecolor\":\"white\"},\"yaxis\":{\"backgroundcolor\":\"#E5ECF6\",\"gridcolor\":\"white\",\"gridwidth\":2,\"linecolor\":\"white\",\"showbackground\":true,\"ticks\":\"\",\"zerolinecolor\":\"white\"},\"zaxis\":{\"backgroundcolor\":\"#E5ECF6\",\"gridcolor\":\"white\",\"gridwidth\":2,\"linecolor\":\"white\",\"showbackground\":true,\"ticks\":\"\",\"zerolinecolor\":\"white\"}},\"shapedefaults\":{\"line\":{\"color\":\"#2a3f5f\"}},\"ternary\":{\"aaxis\":{\"gridcolor\":\"white\",\"linecolor\":\"white\",\"ticks\":\"\"},\"baxis\":{\"gridcolor\":\"white\",\"linecolor\":\"white\",\"ticks\":\"\"},\"bgcolor\":\"#E5ECF6\",\"caxis\":{\"gridcolor\":\"white\",\"linecolor\":\"white\",\"ticks\":\"\"}},\"title\":{\"x\":0.05},\"xaxis\":{\"automargin\":true,\"gridcolor\":\"white\",\"linecolor\":\"white\",\"ticks\":\"\",\"title\":{\"standoff\":15},\"zerolinecolor\":\"white\",\"zerolinewidth\":2},\"yaxis\":{\"automargin\":true,\"gridcolor\":\"white\",\"linecolor\":\"white\",\"ticks\":\"\",\"title\":{\"standoff\":15},\"zerolinecolor\":\"white\",\"zerolinewidth\":2}}},\"xaxis\":{\"anchor\":\"y\",\"domain\":[0.0,1.0],\"title\":{\"text\":\"hasVisitedOnline\"}},\"yaxis\":{\"anchor\":\"x\",\"domain\":[0.0,1.0],\"title\":{\"text\":\"users\"}},\"legend\":{\"tracegroupgap\":0},\"margin\":{\"t\":60},\"barmode\":\"relative\",\"width\":720,\"title\":{\"text\":\"Number of users who did not visit online vs those who did\"},\"bargap\":0.05},                        {\"responsive\": true}                    ).then(function(){\n",
              "                            \n",
              "var gd = document.getElementById('1debb533-dc6b-4aab-b357-82be92a922b5');\n",
              "var x = new MutationObserver(function (mutations, observer) {{\n",
              "        var display = window.getComputedStyle(gd).display;\n",
              "        if (!display || display === 'none') {{\n",
              "            console.log([gd, 'removed!']);\n",
              "            Plotly.purge(gd);\n",
              "            observer.disconnect();\n",
              "        }}\n",
              "}});\n",
              "\n",
              "// Listen for the removal of the full notebook cells\n",
              "var notebookContainer = gd.closest('#notebook-container');\n",
              "if (notebookContainer) {{\n",
              "    x.observe(notebookContainer, {childList: true});\n",
              "}}\n",
              "\n",
              "// Listen for the clearing of the current output cell\n",
              "var outputEl = gd.closest('.output');\n",
              "if (outputEl) {{\n",
              "    x.observe(outputEl, {childList: true});\n",
              "}}\n",
              "\n",
              "                        })                };                            </script>        </div>\n",
              "</body>\n",
              "</html>"
            ]
          },
          "metadata": {}
        }
      ]
    },
    {
      "cell_type": "markdown",
      "source": [
        "From the chart above, 98.2% of these users visited the online site. This shows us that possibly this company's does well in engaging with most of its customers online to some extent."
      ],
      "metadata": {
        "id": "vO55RJeYk7w9"
      }
    },
    {
      "cell_type": "markdown",
      "source": [
        "Question 3: How many users visited the physical store?"
      ],
      "metadata": {
        "id": "PHKJjajjv0d2"
      }
    },
    {
      "cell_type": "code",
      "source": [
        "q3 = pd.DataFrame(dfConcat.groupby(\"hasPurchasedOffline\").size()).reset_index(drop = False, inplace = False)\n",
        "q3 = q3.rename(columns = {0: \"users\"}, inplace = False)\n",
        "q3[\"hasPurchasedOffline\"] = q3[\"hasPurchasedOffline\"].apply(lambda x: \"Yes\" if x == 1 else \"No\")\n",
        "fig = px.bar(q3, x = \"hasPurchasedOffline\", y = \"users\", text_auto = True, width = 720)\n",
        "fig.update_layout(title = \"Number of users who did not visit offline vs those who did\", bargap = 0.05)\n",
        "fig.update_traces(marker_line=dict(width=2, color= 'black'))\n",
        "fig.show()"
      ],
      "metadata": {
        "colab": {
          "base_uri": "https://localhost:8080/",
          "height": 542
        },
        "id": "2FUY5P8QwaUS",
        "outputId": "bec0efdd-145f-44a4-c5c1-d1752084bba5"
      },
      "execution_count": null,
      "outputs": [
        {
          "output_type": "display_data",
          "data": {
            "text/html": [
              "<html>\n",
              "<head><meta charset=\"utf-8\" /></head>\n",
              "<body>\n",
              "    <div>            <script src=\"https://cdnjs.cloudflare.com/ajax/libs/mathjax/2.7.5/MathJax.js?config=TeX-AMS-MML_SVG\"></script><script type=\"text/javascript\">if (window.MathJax) {MathJax.Hub.Config({SVG: {font: \"STIX-Web\"}});}</script>                <script type=\"text/javascript\">window.PlotlyConfig = {MathJaxConfig: 'local'};</script>\n",
              "        <script src=\"https://cdn.plot.ly/plotly-2.8.3.min.js\"></script>                <div id=\"f768cb71-4e61-4e47-beba-7934913e766a\" class=\"plotly-graph-div\" style=\"height:525px; width:720px;\"></div>            <script type=\"text/javascript\">                                    window.PLOTLYENV=window.PLOTLYENV || {};                                    if (document.getElementById(\"f768cb71-4e61-4e47-beba-7934913e766a\")) {                    Plotly.newPlot(                        \"f768cb71-4e61-4e47-beba-7934913e766a\",                        [{\"alignmentgroup\":\"True\",\"hovertemplate\":\"hasPurchasedOffline=%{x}<br>users=%{y}<extra></extra>\",\"legendgroup\":\"\",\"marker\":{\"color\":\"#636efa\",\"pattern\":{\"shape\":\"\"},\"line\":{\"color\":\"black\",\"width\":2}},\"name\":\"\",\"offsetgroup\":\"\",\"orientation\":\"v\",\"showlegend\":false,\"textposition\":\"auto\",\"texttemplate\":\"%{y}\",\"x\":[\"No\",\"Yes\"],\"xaxis\":\"x\",\"y\":[3813,217],\"yaxis\":\"y\",\"type\":\"bar\"}],                        {\"template\":{\"data\":{\"bar\":[{\"error_x\":{\"color\":\"#2a3f5f\"},\"error_y\":{\"color\":\"#2a3f5f\"},\"marker\":{\"line\":{\"color\":\"#E5ECF6\",\"width\":0.5},\"pattern\":{\"fillmode\":\"overlay\",\"size\":10,\"solidity\":0.2}},\"type\":\"bar\"}],\"barpolar\":[{\"marker\":{\"line\":{\"color\":\"#E5ECF6\",\"width\":0.5},\"pattern\":{\"fillmode\":\"overlay\",\"size\":10,\"solidity\":0.2}},\"type\":\"barpolar\"}],\"carpet\":[{\"aaxis\":{\"endlinecolor\":\"#2a3f5f\",\"gridcolor\":\"white\",\"linecolor\":\"white\",\"minorgridcolor\":\"white\",\"startlinecolor\":\"#2a3f5f\"},\"baxis\":{\"endlinecolor\":\"#2a3f5f\",\"gridcolor\":\"white\",\"linecolor\":\"white\",\"minorgridcolor\":\"white\",\"startlinecolor\":\"#2a3f5f\"},\"type\":\"carpet\"}],\"choropleth\":[{\"colorbar\":{\"outlinewidth\":0,\"ticks\":\"\"},\"type\":\"choropleth\"}],\"contour\":[{\"colorbar\":{\"outlinewidth\":0,\"ticks\":\"\"},\"colorscale\":[[0.0,\"#0d0887\"],[0.1111111111111111,\"#46039f\"],[0.2222222222222222,\"#7201a8\"],[0.3333333333333333,\"#9c179e\"],[0.4444444444444444,\"#bd3786\"],[0.5555555555555556,\"#d8576b\"],[0.6666666666666666,\"#ed7953\"],[0.7777777777777778,\"#fb9f3a\"],[0.8888888888888888,\"#fdca26\"],[1.0,\"#f0f921\"]],\"type\":\"contour\"}],\"contourcarpet\":[{\"colorbar\":{\"outlinewidth\":0,\"ticks\":\"\"},\"type\":\"contourcarpet\"}],\"heatmap\":[{\"colorbar\":{\"outlinewidth\":0,\"ticks\":\"\"},\"colorscale\":[[0.0,\"#0d0887\"],[0.1111111111111111,\"#46039f\"],[0.2222222222222222,\"#7201a8\"],[0.3333333333333333,\"#9c179e\"],[0.4444444444444444,\"#bd3786\"],[0.5555555555555556,\"#d8576b\"],[0.6666666666666666,\"#ed7953\"],[0.7777777777777778,\"#fb9f3a\"],[0.8888888888888888,\"#fdca26\"],[1.0,\"#f0f921\"]],\"type\":\"heatmap\"}],\"heatmapgl\":[{\"colorbar\":{\"outlinewidth\":0,\"ticks\":\"\"},\"colorscale\":[[0.0,\"#0d0887\"],[0.1111111111111111,\"#46039f\"],[0.2222222222222222,\"#7201a8\"],[0.3333333333333333,\"#9c179e\"],[0.4444444444444444,\"#bd3786\"],[0.5555555555555556,\"#d8576b\"],[0.6666666666666666,\"#ed7953\"],[0.7777777777777778,\"#fb9f3a\"],[0.8888888888888888,\"#fdca26\"],[1.0,\"#f0f921\"]],\"type\":\"heatmapgl\"}],\"histogram\":[{\"marker\":{\"pattern\":{\"fillmode\":\"overlay\",\"size\":10,\"solidity\":0.2}},\"type\":\"histogram\"}],\"histogram2d\":[{\"colorbar\":{\"outlinewidth\":0,\"ticks\":\"\"},\"colorscale\":[[0.0,\"#0d0887\"],[0.1111111111111111,\"#46039f\"],[0.2222222222222222,\"#7201a8\"],[0.3333333333333333,\"#9c179e\"],[0.4444444444444444,\"#bd3786\"],[0.5555555555555556,\"#d8576b\"],[0.6666666666666666,\"#ed7953\"],[0.7777777777777778,\"#fb9f3a\"],[0.8888888888888888,\"#fdca26\"],[1.0,\"#f0f921\"]],\"type\":\"histogram2d\"}],\"histogram2dcontour\":[{\"colorbar\":{\"outlinewidth\":0,\"ticks\":\"\"},\"colorscale\":[[0.0,\"#0d0887\"],[0.1111111111111111,\"#46039f\"],[0.2222222222222222,\"#7201a8\"],[0.3333333333333333,\"#9c179e\"],[0.4444444444444444,\"#bd3786\"],[0.5555555555555556,\"#d8576b\"],[0.6666666666666666,\"#ed7953\"],[0.7777777777777778,\"#fb9f3a\"],[0.8888888888888888,\"#fdca26\"],[1.0,\"#f0f921\"]],\"type\":\"histogram2dcontour\"}],\"mesh3d\":[{\"colorbar\":{\"outlinewidth\":0,\"ticks\":\"\"},\"type\":\"mesh3d\"}],\"parcoords\":[{\"line\":{\"colorbar\":{\"outlinewidth\":0,\"ticks\":\"\"}},\"type\":\"parcoords\"}],\"pie\":[{\"automargin\":true,\"type\":\"pie\"}],\"scatter\":[{\"marker\":{\"colorbar\":{\"outlinewidth\":0,\"ticks\":\"\"}},\"type\":\"scatter\"}],\"scatter3d\":[{\"line\":{\"colorbar\":{\"outlinewidth\":0,\"ticks\":\"\"}},\"marker\":{\"colorbar\":{\"outlinewidth\":0,\"ticks\":\"\"}},\"type\":\"scatter3d\"}],\"scattercarpet\":[{\"marker\":{\"colorbar\":{\"outlinewidth\":0,\"ticks\":\"\"}},\"type\":\"scattercarpet\"}],\"scattergeo\":[{\"marker\":{\"colorbar\":{\"outlinewidth\":0,\"ticks\":\"\"}},\"type\":\"scattergeo\"}],\"scattergl\":[{\"marker\":{\"colorbar\":{\"outlinewidth\":0,\"ticks\":\"\"}},\"type\":\"scattergl\"}],\"scattermapbox\":[{\"marker\":{\"colorbar\":{\"outlinewidth\":0,\"ticks\":\"\"}},\"type\":\"scattermapbox\"}],\"scatterpolar\":[{\"marker\":{\"colorbar\":{\"outlinewidth\":0,\"ticks\":\"\"}},\"type\":\"scatterpolar\"}],\"scatterpolargl\":[{\"marker\":{\"colorbar\":{\"outlinewidth\":0,\"ticks\":\"\"}},\"type\":\"scatterpolargl\"}],\"scatterternary\":[{\"marker\":{\"colorbar\":{\"outlinewidth\":0,\"ticks\":\"\"}},\"type\":\"scatterternary\"}],\"surface\":[{\"colorbar\":{\"outlinewidth\":0,\"ticks\":\"\"},\"colorscale\":[[0.0,\"#0d0887\"],[0.1111111111111111,\"#46039f\"],[0.2222222222222222,\"#7201a8\"],[0.3333333333333333,\"#9c179e\"],[0.4444444444444444,\"#bd3786\"],[0.5555555555555556,\"#d8576b\"],[0.6666666666666666,\"#ed7953\"],[0.7777777777777778,\"#fb9f3a\"],[0.8888888888888888,\"#fdca26\"],[1.0,\"#f0f921\"]],\"type\":\"surface\"}],\"table\":[{\"cells\":{\"fill\":{\"color\":\"#EBF0F8\"},\"line\":{\"color\":\"white\"}},\"header\":{\"fill\":{\"color\":\"#C8D4E3\"},\"line\":{\"color\":\"white\"}},\"type\":\"table\"}]},\"layout\":{\"annotationdefaults\":{\"arrowcolor\":\"#2a3f5f\",\"arrowhead\":0,\"arrowwidth\":1},\"autotypenumbers\":\"strict\",\"coloraxis\":{\"colorbar\":{\"outlinewidth\":0,\"ticks\":\"\"}},\"colorscale\":{\"diverging\":[[0,\"#8e0152\"],[0.1,\"#c51b7d\"],[0.2,\"#de77ae\"],[0.3,\"#f1b6da\"],[0.4,\"#fde0ef\"],[0.5,\"#f7f7f7\"],[0.6,\"#e6f5d0\"],[0.7,\"#b8e186\"],[0.8,\"#7fbc41\"],[0.9,\"#4d9221\"],[1,\"#276419\"]],\"sequential\":[[0.0,\"#0d0887\"],[0.1111111111111111,\"#46039f\"],[0.2222222222222222,\"#7201a8\"],[0.3333333333333333,\"#9c179e\"],[0.4444444444444444,\"#bd3786\"],[0.5555555555555556,\"#d8576b\"],[0.6666666666666666,\"#ed7953\"],[0.7777777777777778,\"#fb9f3a\"],[0.8888888888888888,\"#fdca26\"],[1.0,\"#f0f921\"]],\"sequentialminus\":[[0.0,\"#0d0887\"],[0.1111111111111111,\"#46039f\"],[0.2222222222222222,\"#7201a8\"],[0.3333333333333333,\"#9c179e\"],[0.4444444444444444,\"#bd3786\"],[0.5555555555555556,\"#d8576b\"],[0.6666666666666666,\"#ed7953\"],[0.7777777777777778,\"#fb9f3a\"],[0.8888888888888888,\"#fdca26\"],[1.0,\"#f0f921\"]]},\"colorway\":[\"#636efa\",\"#EF553B\",\"#00cc96\",\"#ab63fa\",\"#FFA15A\",\"#19d3f3\",\"#FF6692\",\"#B6E880\",\"#FF97FF\",\"#FECB52\"],\"font\":{\"color\":\"#2a3f5f\"},\"geo\":{\"bgcolor\":\"white\",\"lakecolor\":\"white\",\"landcolor\":\"#E5ECF6\",\"showlakes\":true,\"showland\":true,\"subunitcolor\":\"white\"},\"hoverlabel\":{\"align\":\"left\"},\"hovermode\":\"closest\",\"mapbox\":{\"style\":\"light\"},\"paper_bgcolor\":\"white\",\"plot_bgcolor\":\"#E5ECF6\",\"polar\":{\"angularaxis\":{\"gridcolor\":\"white\",\"linecolor\":\"white\",\"ticks\":\"\"},\"bgcolor\":\"#E5ECF6\",\"radialaxis\":{\"gridcolor\":\"white\",\"linecolor\":\"white\",\"ticks\":\"\"}},\"scene\":{\"xaxis\":{\"backgroundcolor\":\"#E5ECF6\",\"gridcolor\":\"white\",\"gridwidth\":2,\"linecolor\":\"white\",\"showbackground\":true,\"ticks\":\"\",\"zerolinecolor\":\"white\"},\"yaxis\":{\"backgroundcolor\":\"#E5ECF6\",\"gridcolor\":\"white\",\"gridwidth\":2,\"linecolor\":\"white\",\"showbackground\":true,\"ticks\":\"\",\"zerolinecolor\":\"white\"},\"zaxis\":{\"backgroundcolor\":\"#E5ECF6\",\"gridcolor\":\"white\",\"gridwidth\":2,\"linecolor\":\"white\",\"showbackground\":true,\"ticks\":\"\",\"zerolinecolor\":\"white\"}},\"shapedefaults\":{\"line\":{\"color\":\"#2a3f5f\"}},\"ternary\":{\"aaxis\":{\"gridcolor\":\"white\",\"linecolor\":\"white\",\"ticks\":\"\"},\"baxis\":{\"gridcolor\":\"white\",\"linecolor\":\"white\",\"ticks\":\"\"},\"bgcolor\":\"#E5ECF6\",\"caxis\":{\"gridcolor\":\"white\",\"linecolor\":\"white\",\"ticks\":\"\"}},\"title\":{\"x\":0.05},\"xaxis\":{\"automargin\":true,\"gridcolor\":\"white\",\"linecolor\":\"white\",\"ticks\":\"\",\"title\":{\"standoff\":15},\"zerolinecolor\":\"white\",\"zerolinewidth\":2},\"yaxis\":{\"automargin\":true,\"gridcolor\":\"white\",\"linecolor\":\"white\",\"ticks\":\"\",\"title\":{\"standoff\":15},\"zerolinecolor\":\"white\",\"zerolinewidth\":2}}},\"xaxis\":{\"anchor\":\"y\",\"domain\":[0.0,1.0],\"title\":{\"text\":\"hasPurchasedOffline\"}},\"yaxis\":{\"anchor\":\"x\",\"domain\":[0.0,1.0],\"title\":{\"text\":\"users\"}},\"legend\":{\"tracegroupgap\":0},\"margin\":{\"t\":60},\"barmode\":\"relative\",\"width\":720,\"title\":{\"text\":\"Number of users who did not visit offline vs those who did\"},\"bargap\":0.05},                        {\"responsive\": true}                    ).then(function(){\n",
              "                            \n",
              "var gd = document.getElementById('f768cb71-4e61-4e47-beba-7934913e766a');\n",
              "var x = new MutationObserver(function (mutations, observer) {{\n",
              "        var display = window.getComputedStyle(gd).display;\n",
              "        if (!display || display === 'none') {{\n",
              "            console.log([gd, 'removed!']);\n",
              "            Plotly.purge(gd);\n",
              "            observer.disconnect();\n",
              "        }}\n",
              "}});\n",
              "\n",
              "// Listen for the removal of the full notebook cells\n",
              "var notebookContainer = gd.closest('#notebook-container');\n",
              "if (notebookContainer) {{\n",
              "    x.observe(notebookContainer, {childList: true});\n",
              "}}\n",
              "\n",
              "// Listen for the clearing of the current output cell\n",
              "var outputEl = gd.closest('.output');\n",
              "if (outputEl) {{\n",
              "    x.observe(outputEl, {childList: true});\n",
              "}}\n",
              "\n",
              "                        })                };                            </script>        </div>\n",
              "</body>\n",
              "</html>"
            ]
          },
          "metadata": {}
        }
      ]
    },
    {
      "cell_type": "markdown",
      "source": [
        "Only 5.4% of these users made offline purchases. This further shows that this company's customers perform online shopping to much greater degree compared to offline shopping. I.e. customers are, for a majority of them, are online shoppers."
      ],
      "metadata": {
        "id": "WYY-eCrCleme"
      }
    },
    {
      "cell_type": "markdown",
      "source": [
        "Question 4: What is the number of users by whether they visited online and if they visited offline?"
      ],
      "metadata": {
        "id": "0E496Al3w8gN"
      }
    },
    {
      "cell_type": "code",
      "source": [
        "q4 = pd.DataFrame(dfConcat.groupby([\"hasVisitedOnline\", \"hasPurchasedOffline\"]).size()).reset_index(drop = False)\n",
        "q4[\"hasVisitedOnline\"] = q4[\"hasVisitedOnline\"].apply(lambda x: \"Yes\" if x == 1 else \"No\")\n",
        "q4[\"hasPurchasedOffline\"] = q4[\"hasPurchasedOffline\"].apply(lambda x: \"Yes\" if x == 1 else \"No\")\n",
        "q4 = q4.rename(columns = {0: \"users\"})\n",
        "fig = px.bar(q4, x = \"hasVisitedOnline\", y = \"users\", color = \"hasPurchasedOffline\", text_auto = True, width = 720)\n",
        "fig.update_layout(title = \"Number of users by online visit and offline visit\", bargap = 0.05, barmode = 'group', bargroupgap = 0.03)\n",
        "fig.update_traces(marker_line=dict(width=2, color= 'black'))\n",
        "fig.show()\n"
      ],
      "metadata": {
        "colab": {
          "base_uri": "https://localhost:8080/",
          "height": 542
        },
        "id": "fDT64RL2xE5d",
        "outputId": "ee9bf78e-594a-43bd-8af4-f3e41e24c3bf"
      },
      "execution_count": null,
      "outputs": [
        {
          "output_type": "display_data",
          "data": {
            "text/html": [
              "<html>\n",
              "<head><meta charset=\"utf-8\" /></head>\n",
              "<body>\n",
              "    <div>            <script src=\"https://cdnjs.cloudflare.com/ajax/libs/mathjax/2.7.5/MathJax.js?config=TeX-AMS-MML_SVG\"></script><script type=\"text/javascript\">if (window.MathJax) {MathJax.Hub.Config({SVG: {font: \"STIX-Web\"}});}</script>                <script type=\"text/javascript\">window.PlotlyConfig = {MathJaxConfig: 'local'};</script>\n",
              "        <script src=\"https://cdn.plot.ly/plotly-2.8.3.min.js\"></script>                <div id=\"3fcdd96d-7862-49d0-bef6-792791d28651\" class=\"plotly-graph-div\" style=\"height:525px; width:720px;\"></div>            <script type=\"text/javascript\">                                    window.PLOTLYENV=window.PLOTLYENV || {};                                    if (document.getElementById(\"3fcdd96d-7862-49d0-bef6-792791d28651\")) {                    Plotly.newPlot(                        \"3fcdd96d-7862-49d0-bef6-792791d28651\",                        [{\"alignmentgroup\":\"True\",\"hovertemplate\":\"hasPurchasedOffline=Yes<br>hasVisitedOnline=%{x}<br>users=%{y}<extra></extra>\",\"legendgroup\":\"Yes\",\"marker\":{\"color\":\"#636efa\",\"pattern\":{\"shape\":\"\"},\"line\":{\"color\":\"black\",\"width\":2}},\"name\":\"Yes\",\"offsetgroup\":\"Yes\",\"orientation\":\"v\",\"showlegend\":true,\"textposition\":\"auto\",\"texttemplate\":\"%{y}\",\"x\":[\"No\",\"Yes\"],\"xaxis\":\"x\",\"y\":[73,144],\"yaxis\":\"y\",\"type\":\"bar\"},{\"alignmentgroup\":\"True\",\"hovertemplate\":\"hasPurchasedOffline=No<br>hasVisitedOnline=%{x}<br>users=%{y}<extra></extra>\",\"legendgroup\":\"No\",\"marker\":{\"color\":\"#EF553B\",\"pattern\":{\"shape\":\"\"},\"line\":{\"color\":\"black\",\"width\":2}},\"name\":\"No\",\"offsetgroup\":\"No\",\"orientation\":\"v\",\"showlegend\":true,\"textposition\":\"auto\",\"texttemplate\":\"%{y}\",\"x\":[\"Yes\"],\"xaxis\":\"x\",\"y\":[3813],\"yaxis\":\"y\",\"type\":\"bar\"}],                        {\"template\":{\"data\":{\"bar\":[{\"error_x\":{\"color\":\"#2a3f5f\"},\"error_y\":{\"color\":\"#2a3f5f\"},\"marker\":{\"line\":{\"color\":\"#E5ECF6\",\"width\":0.5},\"pattern\":{\"fillmode\":\"overlay\",\"size\":10,\"solidity\":0.2}},\"type\":\"bar\"}],\"barpolar\":[{\"marker\":{\"line\":{\"color\":\"#E5ECF6\",\"width\":0.5},\"pattern\":{\"fillmode\":\"overlay\",\"size\":10,\"solidity\":0.2}},\"type\":\"barpolar\"}],\"carpet\":[{\"aaxis\":{\"endlinecolor\":\"#2a3f5f\",\"gridcolor\":\"white\",\"linecolor\":\"white\",\"minorgridcolor\":\"white\",\"startlinecolor\":\"#2a3f5f\"},\"baxis\":{\"endlinecolor\":\"#2a3f5f\",\"gridcolor\":\"white\",\"linecolor\":\"white\",\"minorgridcolor\":\"white\",\"startlinecolor\":\"#2a3f5f\"},\"type\":\"carpet\"}],\"choropleth\":[{\"colorbar\":{\"outlinewidth\":0,\"ticks\":\"\"},\"type\":\"choropleth\"}],\"contour\":[{\"colorbar\":{\"outlinewidth\":0,\"ticks\":\"\"},\"colorscale\":[[0.0,\"#0d0887\"],[0.1111111111111111,\"#46039f\"],[0.2222222222222222,\"#7201a8\"],[0.3333333333333333,\"#9c179e\"],[0.4444444444444444,\"#bd3786\"],[0.5555555555555556,\"#d8576b\"],[0.6666666666666666,\"#ed7953\"],[0.7777777777777778,\"#fb9f3a\"],[0.8888888888888888,\"#fdca26\"],[1.0,\"#f0f921\"]],\"type\":\"contour\"}],\"contourcarpet\":[{\"colorbar\":{\"outlinewidth\":0,\"ticks\":\"\"},\"type\":\"contourcarpet\"}],\"heatmap\":[{\"colorbar\":{\"outlinewidth\":0,\"ticks\":\"\"},\"colorscale\":[[0.0,\"#0d0887\"],[0.1111111111111111,\"#46039f\"],[0.2222222222222222,\"#7201a8\"],[0.3333333333333333,\"#9c179e\"],[0.4444444444444444,\"#bd3786\"],[0.5555555555555556,\"#d8576b\"],[0.6666666666666666,\"#ed7953\"],[0.7777777777777778,\"#fb9f3a\"],[0.8888888888888888,\"#fdca26\"],[1.0,\"#f0f921\"]],\"type\":\"heatmap\"}],\"heatmapgl\":[{\"colorbar\":{\"outlinewidth\":0,\"ticks\":\"\"},\"colorscale\":[[0.0,\"#0d0887\"],[0.1111111111111111,\"#46039f\"],[0.2222222222222222,\"#7201a8\"],[0.3333333333333333,\"#9c179e\"],[0.4444444444444444,\"#bd3786\"],[0.5555555555555556,\"#d8576b\"],[0.6666666666666666,\"#ed7953\"],[0.7777777777777778,\"#fb9f3a\"],[0.8888888888888888,\"#fdca26\"],[1.0,\"#f0f921\"]],\"type\":\"heatmapgl\"}],\"histogram\":[{\"marker\":{\"pattern\":{\"fillmode\":\"overlay\",\"size\":10,\"solidity\":0.2}},\"type\":\"histogram\"}],\"histogram2d\":[{\"colorbar\":{\"outlinewidth\":0,\"ticks\":\"\"},\"colorscale\":[[0.0,\"#0d0887\"],[0.1111111111111111,\"#46039f\"],[0.2222222222222222,\"#7201a8\"],[0.3333333333333333,\"#9c179e\"],[0.4444444444444444,\"#bd3786\"],[0.5555555555555556,\"#d8576b\"],[0.6666666666666666,\"#ed7953\"],[0.7777777777777778,\"#fb9f3a\"],[0.8888888888888888,\"#fdca26\"],[1.0,\"#f0f921\"]],\"type\":\"histogram2d\"}],\"histogram2dcontour\":[{\"colorbar\":{\"outlinewidth\":0,\"ticks\":\"\"},\"colorscale\":[[0.0,\"#0d0887\"],[0.1111111111111111,\"#46039f\"],[0.2222222222222222,\"#7201a8\"],[0.3333333333333333,\"#9c179e\"],[0.4444444444444444,\"#bd3786\"],[0.5555555555555556,\"#d8576b\"],[0.6666666666666666,\"#ed7953\"],[0.7777777777777778,\"#fb9f3a\"],[0.8888888888888888,\"#fdca26\"],[1.0,\"#f0f921\"]],\"type\":\"histogram2dcontour\"}],\"mesh3d\":[{\"colorbar\":{\"outlinewidth\":0,\"ticks\":\"\"},\"type\":\"mesh3d\"}],\"parcoords\":[{\"line\":{\"colorbar\":{\"outlinewidth\":0,\"ticks\":\"\"}},\"type\":\"parcoords\"}],\"pie\":[{\"automargin\":true,\"type\":\"pie\"}],\"scatter\":[{\"marker\":{\"colorbar\":{\"outlinewidth\":0,\"ticks\":\"\"}},\"type\":\"scatter\"}],\"scatter3d\":[{\"line\":{\"colorbar\":{\"outlinewidth\":0,\"ticks\":\"\"}},\"marker\":{\"colorbar\":{\"outlinewidth\":0,\"ticks\":\"\"}},\"type\":\"scatter3d\"}],\"scattercarpet\":[{\"marker\":{\"colorbar\":{\"outlinewidth\":0,\"ticks\":\"\"}},\"type\":\"scattercarpet\"}],\"scattergeo\":[{\"marker\":{\"colorbar\":{\"outlinewidth\":0,\"ticks\":\"\"}},\"type\":\"scattergeo\"}],\"scattergl\":[{\"marker\":{\"colorbar\":{\"outlinewidth\":0,\"ticks\":\"\"}},\"type\":\"scattergl\"}],\"scattermapbox\":[{\"marker\":{\"colorbar\":{\"outlinewidth\":0,\"ticks\":\"\"}},\"type\":\"scattermapbox\"}],\"scatterpolar\":[{\"marker\":{\"colorbar\":{\"outlinewidth\":0,\"ticks\":\"\"}},\"type\":\"scatterpolar\"}],\"scatterpolargl\":[{\"marker\":{\"colorbar\":{\"outlinewidth\":0,\"ticks\":\"\"}},\"type\":\"scatterpolargl\"}],\"scatterternary\":[{\"marker\":{\"colorbar\":{\"outlinewidth\":0,\"ticks\":\"\"}},\"type\":\"scatterternary\"}],\"surface\":[{\"colorbar\":{\"outlinewidth\":0,\"ticks\":\"\"},\"colorscale\":[[0.0,\"#0d0887\"],[0.1111111111111111,\"#46039f\"],[0.2222222222222222,\"#7201a8\"],[0.3333333333333333,\"#9c179e\"],[0.4444444444444444,\"#bd3786\"],[0.5555555555555556,\"#d8576b\"],[0.6666666666666666,\"#ed7953\"],[0.7777777777777778,\"#fb9f3a\"],[0.8888888888888888,\"#fdca26\"],[1.0,\"#f0f921\"]],\"type\":\"surface\"}],\"table\":[{\"cells\":{\"fill\":{\"color\":\"#EBF0F8\"},\"line\":{\"color\":\"white\"}},\"header\":{\"fill\":{\"color\":\"#C8D4E3\"},\"line\":{\"color\":\"white\"}},\"type\":\"table\"}]},\"layout\":{\"annotationdefaults\":{\"arrowcolor\":\"#2a3f5f\",\"arrowhead\":0,\"arrowwidth\":1},\"autotypenumbers\":\"strict\",\"coloraxis\":{\"colorbar\":{\"outlinewidth\":0,\"ticks\":\"\"}},\"colorscale\":{\"diverging\":[[0,\"#8e0152\"],[0.1,\"#c51b7d\"],[0.2,\"#de77ae\"],[0.3,\"#f1b6da\"],[0.4,\"#fde0ef\"],[0.5,\"#f7f7f7\"],[0.6,\"#e6f5d0\"],[0.7,\"#b8e186\"],[0.8,\"#7fbc41\"],[0.9,\"#4d9221\"],[1,\"#276419\"]],\"sequential\":[[0.0,\"#0d0887\"],[0.1111111111111111,\"#46039f\"],[0.2222222222222222,\"#7201a8\"],[0.3333333333333333,\"#9c179e\"],[0.4444444444444444,\"#bd3786\"],[0.5555555555555556,\"#d8576b\"],[0.6666666666666666,\"#ed7953\"],[0.7777777777777778,\"#fb9f3a\"],[0.8888888888888888,\"#fdca26\"],[1.0,\"#f0f921\"]],\"sequentialminus\":[[0.0,\"#0d0887\"],[0.1111111111111111,\"#46039f\"],[0.2222222222222222,\"#7201a8\"],[0.3333333333333333,\"#9c179e\"],[0.4444444444444444,\"#bd3786\"],[0.5555555555555556,\"#d8576b\"],[0.6666666666666666,\"#ed7953\"],[0.7777777777777778,\"#fb9f3a\"],[0.8888888888888888,\"#fdca26\"],[1.0,\"#f0f921\"]]},\"colorway\":[\"#636efa\",\"#EF553B\",\"#00cc96\",\"#ab63fa\",\"#FFA15A\",\"#19d3f3\",\"#FF6692\",\"#B6E880\",\"#FF97FF\",\"#FECB52\"],\"font\":{\"color\":\"#2a3f5f\"},\"geo\":{\"bgcolor\":\"white\",\"lakecolor\":\"white\",\"landcolor\":\"#E5ECF6\",\"showlakes\":true,\"showland\":true,\"subunitcolor\":\"white\"},\"hoverlabel\":{\"align\":\"left\"},\"hovermode\":\"closest\",\"mapbox\":{\"style\":\"light\"},\"paper_bgcolor\":\"white\",\"plot_bgcolor\":\"#E5ECF6\",\"polar\":{\"angularaxis\":{\"gridcolor\":\"white\",\"linecolor\":\"white\",\"ticks\":\"\"},\"bgcolor\":\"#E5ECF6\",\"radialaxis\":{\"gridcolor\":\"white\",\"linecolor\":\"white\",\"ticks\":\"\"}},\"scene\":{\"xaxis\":{\"backgroundcolor\":\"#E5ECF6\",\"gridcolor\":\"white\",\"gridwidth\":2,\"linecolor\":\"white\",\"showbackground\":true,\"ticks\":\"\",\"zerolinecolor\":\"white\"},\"yaxis\":{\"backgroundcolor\":\"#E5ECF6\",\"gridcolor\":\"white\",\"gridwidth\":2,\"linecolor\":\"white\",\"showbackground\":true,\"ticks\":\"\",\"zerolinecolor\":\"white\"},\"zaxis\":{\"backgroundcolor\":\"#E5ECF6\",\"gridcolor\":\"white\",\"gridwidth\":2,\"linecolor\":\"white\",\"showbackground\":true,\"ticks\":\"\",\"zerolinecolor\":\"white\"}},\"shapedefaults\":{\"line\":{\"color\":\"#2a3f5f\"}},\"ternary\":{\"aaxis\":{\"gridcolor\":\"white\",\"linecolor\":\"white\",\"ticks\":\"\"},\"baxis\":{\"gridcolor\":\"white\",\"linecolor\":\"white\",\"ticks\":\"\"},\"bgcolor\":\"#E5ECF6\",\"caxis\":{\"gridcolor\":\"white\",\"linecolor\":\"white\",\"ticks\":\"\"}},\"title\":{\"x\":0.05},\"xaxis\":{\"automargin\":true,\"gridcolor\":\"white\",\"linecolor\":\"white\",\"ticks\":\"\",\"title\":{\"standoff\":15},\"zerolinecolor\":\"white\",\"zerolinewidth\":2},\"yaxis\":{\"automargin\":true,\"gridcolor\":\"white\",\"linecolor\":\"white\",\"ticks\":\"\",\"title\":{\"standoff\":15},\"zerolinecolor\":\"white\",\"zerolinewidth\":2}}},\"xaxis\":{\"anchor\":\"y\",\"domain\":[0.0,1.0],\"title\":{\"text\":\"hasVisitedOnline\"}},\"yaxis\":{\"anchor\":\"x\",\"domain\":[0.0,1.0],\"title\":{\"text\":\"users\"}},\"legend\":{\"title\":{\"text\":\"hasPurchasedOffline\"},\"tracegroupgap\":0},\"margin\":{\"t\":60},\"barmode\":\"group\",\"width\":720,\"title\":{\"text\":\"Number of users by online visit and offline visit\"},\"bargap\":0.05,\"bargroupgap\":0.03},                        {\"responsive\": true}                    ).then(function(){\n",
              "                            \n",
              "var gd = document.getElementById('3fcdd96d-7862-49d0-bef6-792791d28651');\n",
              "var x = new MutationObserver(function (mutations, observer) {{\n",
              "        var display = window.getComputedStyle(gd).display;\n",
              "        if (!display || display === 'none') {{\n",
              "            console.log([gd, 'removed!']);\n",
              "            Plotly.purge(gd);\n",
              "            observer.disconnect();\n",
              "        }}\n",
              "}});\n",
              "\n",
              "// Listen for the removal of the full notebook cells\n",
              "var notebookContainer = gd.closest('#notebook-container');\n",
              "if (notebookContainer) {{\n",
              "    x.observe(notebookContainer, {childList: true});\n",
              "}}\n",
              "\n",
              "// Listen for the clearing of the current output cell\n",
              "var outputEl = gd.closest('.output');\n",
              "if (outputEl) {{\n",
              "    x.observe(outputEl, {childList: true});\n",
              "}}\n",
              "\n",
              "                        })                };                            </script>        </div>\n",
              "</body>\n",
              "</html>"
            ]
          },
          "metadata": {}
        }
      ]
    },
    {
      "cell_type": "markdown",
      "source": [
        "Out of those 3,957 users who visited online, 3.6% made offline purchases."
      ],
      "metadata": {
        "id": "SY2NCx3SmPYA"
      }
    },
    {
      "cell_type": "markdown",
      "source": [
        "Question 5: What is the distribution of number of online visits among users?"
      ],
      "metadata": {
        "id": "UHYxuMLY3KuB"
      }
    },
    {
      "cell_type": "code",
      "source": [
        "# Out of those who visited online, what's the distribution of online visits?\n",
        "q5_avg = dfConcat[\"onlineVisits\"][dfConcat[\"hasVisitedOnline\"] == 1].mean()\n",
        "fig = px.histogram(dfConcat[dfConcat[\"hasVisitedOnline\"] == 1], x = \"onlineVisits\")\n",
        "fig.update_layout(title = \"Distribution of number of online visits by user_id\", bargap = 0.1)\n",
        "fig.update_traces(marker_line = dict(width = 2, color = 'black'))\n",
        "#fig.add_shape(type = \"line\", line_color = \"red\", line_width = 3, opacity = 1, line_dash = \"dot\", x0 =47, x1 = 47, y0 = 0, y1 = 600, xref = \"paper\", yref = \"y\")\n",
        "fig.add_vline(x = q5_avg, line_width = 3, line_dash = \"dash\", line_color = \"red\")\n",
        "fig.add_annotation(text = f\"Average number of online visits at {int(round(q5_avg, 0))}\", x = q5_avg, y = 600, arrowhead = 1, showarrow = True, bordercolor = \"black\", bgcolor = \"white\", opacity = 1)\n",
        "fig.show()\n",
        "# About 2/3 of users visited online store more than once"
      ],
      "metadata": {
        "colab": {
          "base_uri": "https://localhost:8080/",
          "height": 542
        },
        "id": "xdlt1NiHaqkx",
        "outputId": "72307015-c2b2-4158-e4bb-028532c813c5"
      },
      "execution_count": null,
      "outputs": [
        {
          "output_type": "display_data",
          "data": {
            "text/html": [
              "<html>\n",
              "<head><meta charset=\"utf-8\" /></head>\n",
              "<body>\n",
              "    <div>            <script src=\"https://cdnjs.cloudflare.com/ajax/libs/mathjax/2.7.5/MathJax.js?config=TeX-AMS-MML_SVG\"></script><script type=\"text/javascript\">if (window.MathJax) {MathJax.Hub.Config({SVG: {font: \"STIX-Web\"}});}</script>                <script type=\"text/javascript\">window.PlotlyConfig = {MathJaxConfig: 'local'};</script>\n",
              "        <script src=\"https://cdn.plot.ly/plotly-2.8.3.min.js\"></script>                <div id=\"89a60445-f571-4fca-bf22-554bc7f7c657\" class=\"plotly-graph-div\" style=\"height:525px; width:100%;\"></div>            <script type=\"text/javascript\">                                    window.PLOTLYENV=window.PLOTLYENV || {};                                    if (document.getElementById(\"89a60445-f571-4fca-bf22-554bc7f7c657\")) {                    Plotly.newPlot(                        \"89a60445-f571-4fca-bf22-554bc7f7c657\",                        [{\"alignmentgroup\":\"True\",\"bingroup\":\"x\",\"hovertemplate\":\"onlineVisits=%{x}<br>count=%{y}<extra></extra>\",\"legendgroup\":\"\",\"marker\":{\"color\":\"#636efa\",\"pattern\":{\"shape\":\"\"},\"line\":{\"color\":\"black\",\"width\":2}},\"name\":\"\",\"offsetgroup\":\"\",\"orientation\":\"v\",\"showlegend\":false,\"x\":[28.0,27.0,73.0,57.0,594.0,1798.0,27.0,93.0,123.0,54.0,122.0,2.0,8.0,475.0,56.0,93.0,17.0,2.0,2.0,51.0,35.0,119.0,273.0,4.0,37.0,4.0,20.0,31.0,1.0,139.0,859.0,542.0,527.0,31.0,25.0,9.0,22.0,7.0,61.0,78.0,19.0,65.0,117.0,8.0,557.0,4.0,181.0,177.0,101.0,60.0,557.0,31.0,168.0,30.0,66.0,45.0,4.0,4.0,36.0,2.0,197.0,86.0,16.0,14.0,74.0,21.0,212.0,58.0,6.0,35.0,6.0,161.0,50.0,11.0,350.0,2.0,22.0,38.0,77.0,4.0,30.0,2.0,77.0,1.0,55.0,475.0,566.0,113.0,49.0,4.0,219.0,564.0,33.0,18.0,7.0,734.0,75.0,60.0,89.0,2.0,54.0,159.0,4.0,198.0,2.0,18.0,4.0,4.0,57.0,598.0,3.0,5.0,81.0,30.0,494.0,214.0,1.0,96.0,19.0,2.0,13.0,2.0,600.0,5.0,23.0,28.0,71.0,46.0,155.0,6.0,12.0,6.0,1.0,4.0,6.0,45.0,28.0,2.0,72.0,11.0,17.0,14.0,7.0,52.0,19.0,3.0,1.0,3.0,475.0,1.0,2.0,159.0,32.0,475.0,60.0,32.0,6.0,4.0,193.0,12.0,24.0,1548.0,30.0,281.0,10.0,193.0,1.0,557.0,24.0,1.0,124.0,474.0,70.0,223.0,159.0,1.0,4.0,13.0,20.0,15.0,495.0,12.0,13.0,30.0,299.0,557.0,6.0,106.0,1.0,4.0,118.0,1.0,12.0,149.0,363.0,4.0,149.0,28.0,299.0,12.0,33.0,5.0,171.0,629.0,64.0,3.0,8.0,1.0,13.0,9.0,6.0,10.0,475.0,14.0,259.0,89.0,34.0,22.0,5.0,19.0,30.0,5.0,3.0,3.0,3.0,17.0,487.0,4.0,2.0,8.0,9.0,557.0,37.0,1.0,3.0,852.0,18.0,3.0,24.0,1.0,10.0,19.0,61.0,6.0,475.0,6.0,119.0,58.0,64.0,495.0,2.0,3.0,52.0,25.0,363.0,19.0,1.0,1.0,557.0,4.0,7.0,478.0,57.0,318.0,25.0,1.0,5.0,137.0,39.0,299.0,2.0,6.0,150.0,95.0,3.0,9.0,5.0,617.0,4.0,25.0,59.0,1.0,5.0,299.0,1.0,40.0,8.0,63.0,3.0,30.0,18.0,4.0,6.0,13.0,143.0,30.0,21.0,59.0,3.0,77.0,11.0,3.0,35.0,475.0,147.0,379.0,17.0,4.0,1.0,623.0,21.0,11.0,2.0,3.0,2.0,1.0,7.0,217.0,229.0,22.0,24.0,25.0,3.0,82.0,28.0,1.0,9.0,2.0,4.0,19.0,29.0,108.0,3.0,13.0,12.0,2.0,12.0,15.0,193.0,12.0,372.0,1.0,300.0,1.0,3.0,19.0,4.0,1.0,50.0,273.0,12.0,1.0,12.0,4.0,12.0,10.0,46.0,3.0,25.0,22.0,159.0,557.0,9.0,32.0,18.0,13.0,32.0,55.0,39.0,24.0,400.0,75.0,6.0,136.0,47.0,4.0,107.0,3.0,22.0,18.0,41.0,9.0,786.0,17.0,27.0,37.0,1031.0,2.0,1.0,299.0,299.0,557.0,2.0,1.0,474.0,11.0,9.0,1.0,8.0,19.0,158.0,1.0,12.0,5.0,1.0,475.0,688.0,2.0,66.0,5.0,20.0,14.0,141.0,1.0,17.0,27.0,1.0,46.0,856.0,27.0,5.0,299.0,56.0,3.0,4.0,2.0,17.0,16.0,1.0,1.0,57.0,11.0,8.0,7.0,118.0,35.0,2.0,35.0,1.0,883.0,475.0,25.0,108.0,161.0,38.0,2.0,6.0,57.0,1.0,7.0,15.0,57.0,59.0,1.0,2.0,89.0,1.0,159.0,2.0,12.0,3.0,4.0,3.0,26.0,37.0,50.0,107.0,8.0,562.0,8.0,6.0,940.0,159.0,54.0,558.0,4.0,474.0,85.0,465.0,15.0,18.0,13.0,12.0,39.0,4.0,5.0,10.0,4.0,35.0,2.0,1.0,2.0,299.0,9.0,232.0,288.0,17.0,2.0,8.0,69.0,4.0,2.0,44.0,3.0,2.0,539.0,36.0,2.0,5.0,15.0,26.0,12.0,3.0,68.0,64.0,282.0,33.0,463.0,634.0,48.0,35.0,68.0,13.0,19.0,1.0,475.0,70.0,35.0,7.0,251.0,1.0,3.0,373.0,2.0,60.0,259.0,217.0,478.0,1.0,37.0,37.0,58.0,32.0,1578.0,58.0,19.0,9.0,5.0,20.0,583.0,62.0,17.0,3.0,17.0,21.0,3.0,8.0,475.0,1.0,3.0,7.0,18.0,7.0,574.0,2.0,1.0,458.0,57.0,219.0,16.0,6.0,2.0,55.0,3.0,18.0,5.0,13.0,2.0,1.0,4.0,239.0,475.0,557.0,332.0,58.0,7.0,58.0,3.0,131.0,44.0,115.0,4.0,1.0,57.0,582.0,7.0,1.0,98.0,18.0,46.0,3.0,5.0,21.0,1.0,13.0,2.0,7.0,475.0,12.0,74.0,149.0,4.0,13.0,10.0,973.0,1.0,20.0,68.0,68.0,329.0,497.0,56.0,7.0,128.0,299.0,318.0,29.0,2.0,3.0,193.0,219.0,1.0,3.0,234.0,52.0,475.0,557.0,557.0,2.0,55.0,2.0,495.0,8.0,2.0,47.0,1.0,2.0,1.0,65.0,1.0,6.0,18.0,14.0,1.0,557.0,31.0,68.0,68.0,71.0,64.0,29.0,68.0,57.0,42.0,1.0,8.0,13.0,3.0,1.0,557.0,33.0,13.0,1.0,65.0,57.0,175.0,2.0,17.0,1.0,64.0,57.0,2.0,557.0,19.0,58.0,229.0,59.0,1177.0,4.0,4.0,68.0,8.0,58.0,33.0,16.0,11.0,474.0,8.0,69.0,6.0,219.0,1.0,18.0,2.0,68.0,122.0,7.0,193.0,14.0,557.0,42.0,2.0,6.0,5.0,1.0,495.0,132.0,32.0,1.0,13.0,121.0,114.0,17.0,4.0,40.0,3.0,6.0,8.0,120.0,11.0,3.0,1116.0,7.0,13.0,149.0,7.0,1.0,531.0,5.0,62.0,41.0,475.0,1.0,23.0,8.0,568.0,558.0,71.0,68.0,68.0,4.0,4.0,2.0,49.0,9.0,2.0,4.0,71.0,463.0,21.0,564.0,26.0,305.0,53.0,27.0,10.0,16.0,3.0,114.0,299.0,48.0,41.0,19.0,16.0,4.0,1.0,856.0,2.0,58.0,30.0,1.0,2.0,3.0,1.0,1180.0,1.0,17.0,4.0,68.0,68.0,68.0,15.0,114.0,477.0,19.0,773.0,114.0,18.0,4.0,131.0,8.0,1.0,36.0,6.0,1.0,197.0,16.0,4.0,9.0,616.0,1.0,158.0,1.0,22.0,1.0,81.0,1.0,10.0,557.0,17.0,2.0,8.0,475.0,72.0,2.0,4.0,1.0,1.0,2.0,1.0,1.0,1.0,12.0,1.0,14.0,2.0,48.0,2.0,81.0,32.0,1.0,87.0,57.0,8.0,299.0,64.0,1.0,2.0,13.0,56.0,6.0,4.0,11.0,2.0,299.0,132.0,2.0,5.0,31.0,57.0,11.0,57.0,1.0,4.0,177.0,11.0,1.0,10.0,16.0,512.0,16.0,1.0,13.0,1.0,31.0,1.0,1.0,30.0,79.0,1.0,12.0,57.0,77.0,6.0,1.0,3.0,5.0,9.0,1.0,152.0,1.0,4.0,1.0,6.0,2.0,28.0,17.0,68.0,68.0,68.0,68.0,68.0,1.0,3.0,1.0,1.0,3.0,1.0,1.0,17.0,3.0,5.0,5.0,8.0,70.0,1.0,1.0,7.0,6.0,52.0,4.0,12.0,73.0,4.0,54.0,557.0,27.0,488.0,300.0,30.0,6.0,108.0,18.0,11.0,2.0,114.0,19.0,1.0,38.0,7.0,926.0,2.0,21.0,36.0,97.0,5.0,19.0,1.0,5.0,3.0,69.0,15.0,6.0,3.0,554.0,8.0,5.0,45.0,4.0,299.0,37.0,41.0,52.0,557.0,1.0,44.0,12.0,28.0,60.0,8.0,1.0,6.0,6.0,12.0,1.0,37.0,3.0,1.0,64.0,205.0,7.0,2.0,3.0,475.0,74.0,474.0,43.0,1.0,4.0,33.0,12.0,475.0,1.0,114.0,2.0,28.0,32.0,8.0,654.0,15.0,64.0,512.0,103.0,6.0,1.0,2.0,35.0,663.0,78.0,5.0,1.0,32.0,5.0,1.0,2.0,64.0,18.0,25.0,7.0,17.0,21.0,299.0,2.0,5.0,53.0,32.0,58.0,13.0,706.0,159.0,14.0,159.0,2.0,3.0,39.0,70.0,7.0,7.0,48.0,2.0,149.0,26.0,20.0,1.0,302.0,2.0,2.0,1.0,78.0,149.0,125.0,2.0,5.0,1.0,219.0,501.0,4.0,5.0,7.0,106.0,2.0,14.0,1.0,25.0,52.0,2.0,5.0,18.0,22.0,16.0,32.0,34.0,564.0,372.0,159.0,12.0,83.0,31.0,2.0,11.0,953.0,1.0,108.0,3.0,12.0,2.0,1.0,7.0,6.0,62.0,141.0,1090.0,68.0,23.0,1.0,207.0,4.0,1.0,2.0,57.0,22.0,8.0,1.0,3.0,4.0,4.0,3.0,56.0,60.0,32.0,95.0,531.0,5.0,3.0,12.0,19.0,152.0,145.0,2.0,8.0,31.0,8.0,2.0,559.0,12.0,7.0,7.0,1.0,159.0,168.0,3.0,10.0,3.0,149.0,1.0,3.0,96.0,210.0,13.0,23.0,3.0,19.0,15.0,2.0,26.0,5.0,167.0,10.0,7.0,1.0,8.0,5.0,4.0,50.0,6.0,18.0,12.0,149.0,228.0,1.0,1.0,11.0,2.0,1.0,114.0,24.0,4.0,475.0,5.0,98.0,475.0,99.0,131.0,39.0,159.0,9.0,8.0,1.0,51.0,16.0,5.0,1.0,46.0,27.0,15.0,2.0,5.0,6.0,58.0,66.0,5.0,13.0,58.0,1.0,1032.0,1.0,653.0,5.0,21.0,61.0,557.0,475.0,29.0,6.0,1.0,3.0,1.0,25.0,5.0,479.0,969.0,475.0,1.0,5.0,4.0,8.0,10.0,41.0,10.0,4.0,27.0,1.0,1.0,95.0,1.0,557.0,150.0,986.0,7.0,2.0,463.0,29.0,288.0,45.0,4.0,9.0,18.0,4.0,28.0,65.0,1.0,3.0,2.0,993.0,54.0,16.0,348.0,57.0,2.0,1.0,32.0,13.0,2.0,4.0,4.0,11.0,150.0,2.0,5.0,771.0,4.0,2.0,3.0,5.0,43.0,1.0,495.0,9.0,671.0,4.0,73.0,474.0,475.0,3.0,495.0,496.0,7.0,6.0,57.0,37.0,1.0,18.0,68.0,1.0,8.0,159.0,51.0,3.0,130.0,1.0,476.0,1.0,4.0,584.0,5.0,79.0,474.0,7.0,20.0,149.0,716.0,615.0,8.0,12.0,3.0,36.0,562.0,2.0,19.0,1.0,41.0,496.0,2.0,58.0,299.0,2.0,1.0,31.0,3.0,3.0,304.0,2.0,6.0,6.0,495.0,6.0,2.0,4.0,1.0,2.0,1.0,474.0,3.0,8.0,24.0,2.0,3.0,2.0,3.0,12.0,8.0,475.0,106.0,4.0,351.0,304.0,1.0,149.0,4.0,35.0,2.0,58.0,3.0,166.0,19.0,5.0,4.0,372.0,60.0,16.0,52.0,1.0,557.0,159.0,11.0,7.0,27.0,95.0,1.0,1.0,7.0,3.0,3.0,4.0,40.0,8.0,299.0,4.0,10.0,34.0,7.0,6.0,7.0,2.0,949.0,4.0,89.0,7.0,50.0,14.0,3.0,3.0,2.0,9.0,171.0,19.0,7.0,5.0,6.0,2.0,6.0,11.0,57.0,3.0,6.0,58.0,1.0,774.0,18.0,11.0,9.0,159.0,3.0,1.0,162.0,2.0,10.0,63.0,3.0,557.0,3.0,2.0,988.0,5.0,4.0,6.0,2.0,116.0,46.0,557.0,1.0,3.0,3.0,1.0,43.0,557.0,58.0,1.0,615.0,17.0,1.0,10.0,299.0,802.0,606.0,475.0,149.0,9.0,12.0,79.0,12.0,1.0,1.0,2.0,5.0,1.0,29.0,3.0,1.0,1.0,5.0,4.0,16.0,6.0,57.0,1.0,6.0,13.0,1.0,3.0,2.0,25.0,57.0,147.0,557.0,1.0,15.0,372.0,299.0,12.0,22.0,5.0,159.0,763.0,1.0,9.0,4.0,6.0,53.0,572.0,475.0,3.0,11.0,474.0,2.0,2.0,8.0,4.0,2.0,14.0,2.0,12.0,3.0,7.0,299.0,4.0,41.0,523.0,131.0,10.0,217.0,3.0,2.0,3.0,4.0,3.0,5.0,11.0,1.0,798.0,15.0,1.0,7.0,9.0,58.0,4.0,69.0,5.0,2.0,1.0,66.0,42.0,299.0,4.0,3.0,13.0,2.0,2.0,149.0,3.0,3.0,1.0,18.0,3.0,1.0,7.0,1.0,533.0,57.0,7.0,3.0,33.0,1.0,3.0,36.0,656.0,9.0,5.0,5.0,1.0,1.0,128.0,5.0,2.0,9.0,1.0,10.0,2.0,57.0,2.0,16.0,3.0,1.0,3.0,16.0,2.0,2.0,649.0,373.0,8.0,58.0,1.0,1.0,9.0,93.0,1.0,475.0,62.0,4.0,11.0,2.0,11.0,2.0,33.0,408.0,6.0,3.0,1.0,2.0,20.0,11.0,10.0,11.0,9.0,60.0,2.0,143.0,58.0,13.0,6.0,9.0,24.0,4.0,13.0,4.0,2.0,5.0,2.0,64.0,775.0,57.0,58.0,474.0,475.0,27.0,3.0,76.0,2.0,42.0,10.0,6.0,1090.0,9.0,28.0,3.0,378.0,15.0,5.0,3.0,557.0,10.0,11.0,57.0,32.0,64.0,68.0,7.0,481.0,31.0,40.0,3.0,1.0,1.0,9.0,14.0,64.0,64.0,7.0,9.0,481.0,29.0,18.0,2.0,1.0,45.0,188.0,1.0,1.0,687.0,26.0,64.0,1.0,2.0,4.0,2.0,1.0,1.0,5.0,1.0,149.0,3.0,3.0,557.0,131.0,2.0,9.0,1.0,8.0,29.0,4.0,783.0,226.0,57.0,2.0,1034.0,26.0,29.0,39.0,6.0,95.0,149.0,5.0,58.0,65.0,4.0,14.0,7.0,11.0,4.0,4.0,159.0,561.0,2.0,6.0,2.0,1.0,3.0,2.0,11.0,3.0,557.0,149.0,123.0,149.0,228.0,149.0,134.0,7.0,1.0,58.0,6.0,3.0,149.0,448.0,7.0,4.0,557.0,1.0,7.0,2.0,57.0,856.0,10.0,2.0,452.0,9.0,603.0,3.0,19.0,149.0,200.0,58.0,86.0,1.0,1.0,10.0,475.0,2.0,1.0,7.0,6.0,149.0,44.0,164.0,1.0,85.0,22.0,490.0,28.0,557.0,44.0,14.0,2.0,1.0,529.0,1.0,4.0,517.0,1.0,301.0,7.0,1.0,1.0,3.0,150.0,118.0,482.0,7.0,29.0,17.0,131.0,475.0,2.0,149.0,299.0,5.0,58.0,21.0,557.0,8.0,3.0,589.0,9.0,392.0,15.0,59.0,15.0,8.0,1032.0,24.0,49.0,1.0,10.0,557.0,4.0,83.0,2.0,58.0,582.0,3.0,3.0,7.0,149.0,7.0,2.0,479.0,32.0,5.0,2.0,2.0,1.0,18.0,2.0,1.0,9.0,9.0,1.0,3.0,5.0,13.0,14.0,2.0,5.0,79.0,969.0,2.0,36.0,81.0,8.0,3.0,57.0,95.0,8.0,1.0,2.0,4.0,558.0,1.0,5.0,1.0,159.0,3.0,57.0,1.0,2.0,1.0,2.0,95.0,6.0,2.0,701.0,299.0,64.0,95.0,1.0,159.0,5.0,21.0,10.0,11.0,372.0,64.0,4.0,5.0,64.0,24.0,1.0,162.0,479.0,299.0,21.0,2.0,74.0,7.0,8.0,2.0,262.0,117.0,95.0,5.0,7.0,1.0,475.0,140.0,20.0,23.0,149.0,1.0,5.0,7.0,8.0,1.0,10.0,9.0,4.0,4.0,8.0,45.0,299.0,6.0,4.0,8.0,8.0,95.0,557.0,11.0,2.0,2.0,3.0,42.0,475.0,1.0,2.0,19.0,4.0,59.0,531.0,12.0,1.0,207.0,30.0,29.0,5.0,794.0,1.0,16.0,1.0,853.0,219.0,3.0,58.0,7.0,19.0,6.0,1.0,4.0,8.0,2.0,557.0,114.0,3.0,22.0,1.0,58.0,1.0,679.0,1.0,4.0,30.0,536.0,299.0,2.0,9.0,4.0,9.0,6.0,35.0,57.0,4.0,24.0,12.0,1.0,24.0,8.0,17.0,149.0,1.0,3.0,2.0,6.0,1.0,641.0,149.0,162.0,10.0,58.0,32.0,97.0,162.0,237.0,1.0,197.0,14.0,557.0,8.0,57.0,150.0,2.0,764.0,7.0,177.0,29.0,36.0,114.0,1116.0,57.0,2.0,35.0,47.0,5.0,1.0,8.0,58.0,474.0,2.0,4.0,1.0,6.0,4.0,5.0,1.0,49.0,9.0,64.0,4.0,475.0,49.0,2.0,1.0,68.0,2.0,479.0,3.0,4.0,1.0,58.0,14.0,2.0,477.0,10.0,557.0,1.0,952.0,5.0,2.0,183.0,76.0,2.0,1.0,4.0,1.0,2.0,57.0,1.0,57.0,2.0,2.0,106.0,14.0,2.0,3.0,149.0,7.0,156.0,1.0,13.0,10.0,16.0,57.0,39.0,2.0,165.0,8.0,4.0,35.0,12.0,167.0,1.0,7.0,8.0,18.0,11.0,149.0,5.0,12.0,1.0,6.0,2.0,12.0,19.0,1.0,131.0,1.0,8.0,1080.0,63.0,7.0,128.0,3.0,8.0,4.0,58.0,62.0,397.0,69.0,5.0,1.0,1.0,1.0,204.0,16.0,475.0,52.0,1.0,7.0,3.0,4.0,19.0,7.0,1.0,114.0,20.0,557.0,495.0,58.0,2.0,1.0,475.0,2.0,495.0,5.0,495.0,4.0,131.0,8.0,495.0,12.0,3.0,4.0,2.0,5.0,48.0,22.0,11.0,17.0,32.0,49.0,3.0,475.0,11.0,2.0,3.0,2.0,4.0,3.0,5.0,60.0,7.0,58.0,57.0,1.0,149.0,3.0,19.0,2.0,696.0,474.0,1.0,31.0,12.0,6.0,58.0,58.0,11.0,8.0,32.0,1.0,9.0,3.0,1.0,1.0,1.0,7.0,4.0,5.0,158.0,495.0,475.0,3.0,539.0,12.0,57.0,54.0,558.0,62.0,27.0,14.0,159.0,8.0,1.0,4.0,1.0,114.0,27.0,299.0,5.0,475.0,17.0,131.0,24.0,557.0,615.0,4.0,2.0,2.0,475.0,149.0,15.0,475.0,4.0,2.0,19.0,6.0,161.0,21.0,10.0,62.0,614.0,557.0,159.0,58.0,1.0,2.0,159.0,1.0,300.0,557.0,1.0,97.0,77.0,4.0,605.0,299.0,3.0,7.0,1.0,1.0,1531.0,186.0,17.0,557.0,3.0,80.0,1.0,12.0,29.0,191.0,1032.0,6.0,30.0,248.0,299.0,7.0,1.0,6.0,27.0,1.0,12.0,856.0,299.0,572.0,896.0,111.0,557.0,1.0,5.0,3.0,3.0,5.0,4.0,21.0,95.0,20.0,659.0,28.0,2.0,927.0,12.0,639.0,43.0,8.0,13.0,299.0,4.0,3.0,8.0,17.0,23.0,3.0,145.0,41.0,4.0,7.0,309.0,31.0,59.0,1.0,2.0,5.0,44.0,4.0,12.0,10.0,57.0,12.0,43.0,34.0,6.0,610.0,22.0,6.0,2.0,2.0,578.0,64.0,79.0,3.0,54.0,2.0,68.0,68.0,1.0,1.0,3.0,49.0,299.0,8.0,3.0,2.0,6.0,25.0,480.0,37.0,58.0,299.0,3.0,1.0,2.0,8.0,17.0,3.0,17.0,1.0,557.0,25.0,48.0,13.0,2.0,64.0,1.0,7.0,6.0,8.0,4.0,29.0,3.0,33.0,4.0,159.0,1.0,774.0,301.0,11.0,5.0,10.0,2.0,25.0,2.0,1.0,2.0,57.0,6.0,372.0,3.0,6.0,497.0,58.0,3.0,17.0,16.0,4.0,3.0,8.0,7.0,21.0,3.0,131.0,49.0,6.0,2.0,1.0,2.0,18.0,14.0,1.0,17.0,13.0,112.0,4.0,1.0,99.0,17.0,2.0,2.0,4.0,142.0,5.0,73.0,128.0,59.0,19.0,1.0,4.0,4.0,10.0,1.0,87.0,475.0,1.0,2.0,299.0,557.0,3.0,4.0,3.0,9.0,3.0,2.0,1.0,58.0,19.0,3.0,3.0,2.0,1.0,15.0,49.0,11.0,58.0,13.0,10.0,21.0,6.0,8.0,2.0,2.0,4.0,8.0,12.0,223.0,3.0,17.0,4.0,8.0,475.0,6.0,9.0,84.0,1266.0,11.0,7.0,21.0,6.0,12.0,12.0,3.0,4.0,9.0,11.0,81.0,13.0,2.0,2.0,54.0,19.0,4.0,34.0,5.0,163.0,299.0,1.0,548.0,5.0,7.0,115.0,40.0,2.0,5.0,4.0,24.0,579.0,559.0,69.0,1.0,3.0,1.0,47.0,13.0,19.0,2.0,410.0,21.0,1.0,2.0,2.0,22.0,33.0,4.0,1.0,30.0,5.0,5.0,10.0,7.0,5.0,32.0,4.0,27.0,5.0,8.0,8.0,22.0,2.0,12.0,64.0,474.0,59.0,58.0,64.0,5.0,95.0,6.0,3.0,5.0,1.0,2.0,1.0,15.0,9.0,685.0,475.0,785.0,10.0,6.0,26.0,88.0,257.0,10.0,6.0,15.0,303.0,277.0,774.0,10.0,6.0,211.0,3.0,227.0,11.0,745.0,140.0,312.0,12.0,99.0,23.0,2.0,31.0,2.0,5.0,4.0,7.0,7.0,1.0,59.0,475.0,4.0,25.0,1372.0,624.0,8.0,5.0,11.0,1.0,3.0,1.0,3.0,5.0,3.0,1.0,4.0,12.0,42.0,193.0,1.0,24.0,76.0,43.0,47.0,40.0,50.0,5.0,504.0,9.0,15.0,3.0,10.0,65.0,58.0,3.0,19.0,4.0,18.0,478.0,76.0,485.0,1.0,4.0,4.0,24.0,12.0,216.0,2.0,3.0,427.0,36.0,57.0,2.0,1.0,560.0,2.0,26.0,1.0,1.0,46.0,515.0,121.0,60.0,5.0,7.0,205.0,6.0,313.0,2.0,3.0,3.0,9.0,1.0,19.0,7.0,6.0,114.0,112.0,29.0,6.0,76.0,9.0,46.0,5.0,86.0,92.0,306.0,46.0,99.0,26.0,495.0,564.0,50.0,5.0,2.0,6.0,2.0,10.0,3.0,211.0,299.0,3.0,35.0,15.0,67.0,1.0,773.0,1.0,2.0,3.0,1.0,5.0,15.0,408.0,3.0,2.0,315.0,18.0,9.0,59.0,178.0,5.0,7.0,1.0,3.0,5.0,39.0,557.0,123.0,480.0,11.0,2.0,1.0,1479.0,15.0,4.0,568.0,15.0,12.0,2.0,219.0,3.0,21.0,5.0,12.0,1.0,1.0,9.0,58.0,17.0,25.0,63.0,319.0,45.0,153.0,2.0,4.0,101.0,100.0,195.0,22.0,149.0,5.0,2.0,34.0,7.0,2.0,49.0,26.0,1.0,25.0,24.0,129.0,5.0,43.0,7.0,1.0,2.0,188.0,14.0,103.0,28.0,101.0,34.0,10.0,11.0,13.0,543.0,120.0,23.0,33.0,25.0,46.0,78.0,12.0,3.0,29.0,69.0,390.0,50.0,22.0,32.0,49.0,79.0,24.0,43.0,47.0,111.0,17.0,38.0,63.0,7.0,33.0,5.0,16.0,38.0,25.0,90.0,24.0,67.0,40.0,36.0,16.0,25.0,44.0,12.0,146.0,15.0,2.0,23.0,15.0,3.0,28.0,583.0,13.0,233.0,22.0,157.0,16.0,498.0,18.0,11.0,13.0,170.0,26.0,20.0,32.0,50.0,55.0,23.0,2.0,34.0,18.0,2.0,12.0,12.0,11.0,44.0,939.0,514.0,14.0,73.0,1116.0,19.0,33.0,6.0,817.0,8.0,6.0,11.0,3.0,10.0,12.0,7.0,13.0,12.0,4.0,38.0,57.0,12.0,38.0,372.0,3.0,1014.0,65.0,336.0,3.0,13.0,8.0,585.0,104.0,55.0,4.0,98.0,43.0,18.0,4.0,37.0,100.0,23.0,5.0,14.0,351.0,61.0,20.0,110.0,86.0,28.0,53.0,14.0,41.0,60.0,29.0,24.0,44.0,48.0,1126.0,31.0,20.0,6.0,50.0,51.0,99.0,14.0,43.0,29.0,13.0,10.0,38.0,478.0,7.0,12.0,91.0,52.0,2.0,7.0,7.0,5.0,24.0,2.0,38.0,27.0,23.0,11.0,40.0,79.0,5.0,197.0,7.0,776.0,2.0,29.0,23.0,119.0,12.0,33.0,45.0,624.0,46.0,281.0,539.0,571.0,74.0,11.0,6.0,110.0,301.0,15.0,20.0,28.0,130.0,71.0,35.0,56.0,39.0,62.0,48.0,40.0,16.0,89.0,25.0,20.0,58.0,15.0,371.0,17.0,19.0,20.0,31.0,21.0,20.0,169.0,36.0,22.0,74.0,16.0,22.0,41.0,37.0,30.0,137.0,99.0,71.0,25.0,14.0,24.0,113.0,40.0,110.0,22.0,30.0,357.0,20.0,16.0,82.0,1169.0,83.0,42.0,68.0,16.0,63.0,24.0,9.0,130.0,162.0,76.0,50.0,143.0,127.0,85.0,20.0,66.0,34.0,36.0,14.0,69.0,68.0,12.0,30.0,22.0,32.0,14.0,38.0,256.0,177.0,53.0,61.0,53.0,34.0,70.0,38.0,63.0,40.0,4.0,107.0,35.0,15.0,40.0,33.0,23.0,18.0,116.0,53.0,51.0,65.0,21.0,290.0,17.0,16.0,85.0,24.0,5.0,14.0,101.0,30.0,46.0,90.0,21.0,10.0,37.0,105.0,24.0,58.0,27.0,147.0,320.0,136.0,6.0,39.0,15.0,25.0,105.0,313.0,475.0,7.0,16.0,65.0,92.0,31.0,48.0,10.0,109.0,59.0,66.0,28.0,22.0,127.0,33.0,45.0,36.0,566.0,27.0,73.0,6.0,40.0,92.0,32.0,32.0,46.0,29.0,17.0,1.0,21.0,24.0,44.0,102.0,746.0,34.0,1.0,299.0,131.0,49.0,89.0,705.0,9.0,42.0,110.0,12.0,241.0,35.0,6.0,7.0,44.0,20.0,16.0,39.0,563.0,63.0,14.0,9.0,20.0,43.0,606.0,4.0,32.0,19.0,10.0,773.0,52.0,10.0,13.0,5.0,90.0,34.0,40.0,28.0,40.0,72.0,245.0,41.0,15.0,122.0,25.0,61.0,15.0,208.0,18.0,41.0,315.0,424.0,64.0,9.0,74.0,93.0,95.0,5.0,14.0,8.0,6.0,96.0,17.0,10.0,27.0,1.0,9.0,194.0,17.0,18.0,52.0,26.0,4.0,31.0,20.0,1.0,12.0,132.0,120.0,302.0,10.0,9.0,495.0,16.0,121.0,149.0,97.0,317.0,95.0,7.0,6.0,6.0,18.0,408.0,37.0,4.0,148.0,12.0,3.0,34.0,73.0,39.0,299.0,192.0,159.0,5.0,11.0,1058.0,3.0,15.0,50.0,74.0,542.0,474.0,475.0,7.0,20.0,34.0,28.0,2.0,71.0,6.0,474.0,5.0,577.0,119.0,193.0,114.0,27.0,78.0,180.0,475.0,480.0,12.0,3.0,299.0,63.0,64.0,75.0,4.0,164.0,9.0,580.0,557.0,5.0,2.0,19.0,35.0,58.0,357.0,95.0,28.0,2.0,56.0,15.0,6.0,11.0,149.0,58.0,7.0,8.0,18.0,3.0,408.0,56.0,54.0,1.0,9.0,64.0,706.0,10.0,299.0,318.0,20.0,1069.0,3.0,8.0,114.0,1.0,1.0,16.0,193.0,45.0,303.0,69.0,299.0,491.0,806.0,408.0,1673.0,161.0,48.0,23.0,420.0,29.0,5.0,4.0,23.0,16.0,5.0,299.0,17.0,1.0,475.0,557.0,475.0,19.0,564.0,114.0,3.0,7.0,10.0,3.0,1.0,199.0,40.0,5.0,48.0,78.0,12.0,15.0,2.0,299.0,299.0,9.0,9.0,41.0,12.0,64.0,61.0,3.0,21.0,26.0,2.0,557.0,16.0,9.0,159.0,2.0,299.0,621.0,1116.0,9.0,557.0,326.0,557.0,149.0,99.0,4.0,299.0,58.0,4.0,564.0,299.0,1.0,23.0,9.0,7.0,6.0,149.0,37.0,157.0,10.0,134.0,557.0,3.0,299.0,10.0,19.0,1.0,9.0,207.0,114.0,19.0,193.0,17.0,193.0,21.0,5.0,4.0,41.0,597.0,1136.0,3.0,26.0,112.0,5.0,4.0,2.0,495.0,299.0,22.0,2.0,856.0,3.0,114.0,22.0,3.0,7.0,1.0,166.0,299.0,13.0,475.0,557.0,7.0,539.0,62.0,32.0,5.0,148.0,3.0,136.0,70.0,57.0,299.0,21.0,17.0,114.0,48.0,57.0,652.0,16.0,513.0,26.0,14.0,84.0,299.0,487.0,2.0,19.0,64.0,18.0,706.0,6.0,474.0,8.0,6.0,21.0,3.0,4.0,7.0,193.0,22.0,58.0,614.0,561.0,642.0,1.0,27.0,74.0,89.0,1.0,47.0,149.0,458.0,209.0,1.0,9.0,2.0,3.0,58.0,149.0,978.0,12.0,68.0,6.0,3.0,299.0,57.0,299.0,363.0,16.0,10.0,149.0,159.0,1.0,95.0,57.0,16.0,58.0,1.0,7.0,475.0,13.0,3.0,10.0,149.0,1.0,95.0,865.0,3.0,8.0,159.0,132.0,475.0,14.0,557.0,5.0,6.0,8.0,159.0,563.0,57.0,299.0,11.0,57.0,9.0,299.0,1.0,4.0,299.0,3.0,5.0,299.0,299.0,3.0,7.0,58.0,159.0,58.0,159.0,64.0,8.0,557.0,48.0,8.0,856.0,706.0,569.0,68.0,495.0,6.0,1.0,482.0,4.0,92.0,1.0,57.0,4.0,8.0,557.0,240.0,557.0,302.0,299.0,557.0,6.0,17.0,615.0,28.0,64.0,149.0,1009.0,64.0,620.0,9.0,475.0,1.0,876.0,51.0,452.0,7.0,452.0,2.0,132.0,1.0,99.0,299.0,3.0,581.0,27.0,247.0,12.0,572.0,67.0,19.0,37.0,557.0,1.0,24.0,114.0,3.0,21.0,557.0,11.0,364.0,193.0,21.0,557.0,38.0,1.0,19.0,2.0,41.0,1330.0,299.0,299.0,23.0,23.0,1.0,89.0,114.0,299.0,1.0,1.0,557.0,12.0,63.0,57.0,193.0,114.0,15.0,12.0,193.0,24.0,5.0,299.0,413.0,557.0,16.0,8.0,621.0,159.0,114.0,55.0,56.0,193.0,12.0,193.0,299.0,159.0,159.0,207.0,15.0,64.0,5.0,856.0,706.0,357.0,13.0,37.0,64.0,7.0,50.0,615.0,475.0,3.0,61.0,12.0,126.0,7.0,1.0,37.0,40.0,299.0,3.0,159.0,20.0,557.0,372.0,2.0,1.0,25.0,6.0,4.0,557.0,448.0,11.0,475.0,5.0,558.0,12.0,5.0,64.0,57.0,299.0,413.0,6.0,18.0,475.0,6.0,365.0,299.0,557.0,475.0,57.0,557.0,26.0,64.0,13.0,159.0,3.0,557.0,7.0,12.0,37.0,557.0,52.0,26.0,299.0,299.0,2.0,557.0,6.0,18.0,4.0,303.0,18.0,12.0,452.0,7.0,7.0,133.0,193.0,311.0,4.0,114.0,19.0,299.0,12.0,1.0,452.0,12.0,68.0,631.0,37.0,159.0,475.0,299.0,12.0,452.0,114.0,15.0,299.0,512.0,234.0,299.0,37.0,36.0,299.0,1.0,357.0,557.0,37.0,37.0,149.0,193.0,57.0,149.0,5.0,452.0,474.0,475.0,3.0,57.0,37.0,19.0,32.0,149.0,149.0,299.0,414.0,58.0,57.0,7.0,2.0,1.0,1.0,6.0,5.0,299.0,557.0,64.0,114.0,475.0,57.0,299.0,557.0,475.0,159.0,920.0,57.0,6.0,149.0,149.0,65.0,299.0,474.0,22.0,856.0,3.0,51.0,557.0,557.0,114.0,114.0,475.0,57.0,1.0,133.0,1.0,1.0,10.0,57.0,159.0,2.0,474.0,1.0,12.0,22.0,557.0,57.0,8.0,8.0,5.0,203.0,12.0,64.0,64.0,12.0,1.0,121.0,363.0,299.0,57.0,299.0,27.0,2.0,193.0,475.0,58.0,89.0,57.0,37.0,114.0,68.0,68.0,13.0,219.0,557.0,474.0,475.0,2.0,11.0,64.0,12.0,64.0,114.0,557.0,557.0,64.0,64.0,57.0,557.0,6.0,1.0,114.0,7.0,149.0,8.0,299.0,193.0,557.0,299.0,18.0,3.0,12.0,57.0,63.0,59.0,475.0,3.0,178.0,158.0,58.0,3.0,475.0,62.0,3.0,114.0,3.0,1.0,1.0,36.0,114.0,114.0,1.0,557.0,146.0,57.0,6.0,57.0,7.0,114.0,140.0,159.0,12.0,64.0,187.0,193.0,12.0,64.0,1.0,64.0,193.0,114.0,3.0,64.0,159.0,114.0,140.0,36.0,14.0,140.0,140.0,193.0,140.0,114.0,37.0,193.0,162.0,22.0,1.0,57.0,1.0,12.0,114.0,159.0,12.0,475.0,149.0,52.0,5.0,18.0],\"xaxis\":\"x\",\"yaxis\":\"y\",\"type\":\"histogram\"}],                        {\"template\":{\"data\":{\"bar\":[{\"error_x\":{\"color\":\"#2a3f5f\"},\"error_y\":{\"color\":\"#2a3f5f\"},\"marker\":{\"line\":{\"color\":\"#E5ECF6\",\"width\":0.5},\"pattern\":{\"fillmode\":\"overlay\",\"size\":10,\"solidity\":0.2}},\"type\":\"bar\"}],\"barpolar\":[{\"marker\":{\"line\":{\"color\":\"#E5ECF6\",\"width\":0.5},\"pattern\":{\"fillmode\":\"overlay\",\"size\":10,\"solidity\":0.2}},\"type\":\"barpolar\"}],\"carpet\":[{\"aaxis\":{\"endlinecolor\":\"#2a3f5f\",\"gridcolor\":\"white\",\"linecolor\":\"white\",\"minorgridcolor\":\"white\",\"startlinecolor\":\"#2a3f5f\"},\"baxis\":{\"endlinecolor\":\"#2a3f5f\",\"gridcolor\":\"white\",\"linecolor\":\"white\",\"minorgridcolor\":\"white\",\"startlinecolor\":\"#2a3f5f\"},\"type\":\"carpet\"}],\"choropleth\":[{\"colorbar\":{\"outlinewidth\":0,\"ticks\":\"\"},\"type\":\"choropleth\"}],\"contour\":[{\"colorbar\":{\"outlinewidth\":0,\"ticks\":\"\"},\"colorscale\":[[0.0,\"#0d0887\"],[0.1111111111111111,\"#46039f\"],[0.2222222222222222,\"#7201a8\"],[0.3333333333333333,\"#9c179e\"],[0.4444444444444444,\"#bd3786\"],[0.5555555555555556,\"#d8576b\"],[0.6666666666666666,\"#ed7953\"],[0.7777777777777778,\"#fb9f3a\"],[0.8888888888888888,\"#fdca26\"],[1.0,\"#f0f921\"]],\"type\":\"contour\"}],\"contourcarpet\":[{\"colorbar\":{\"outlinewidth\":0,\"ticks\":\"\"},\"type\":\"contourcarpet\"}],\"heatmap\":[{\"colorbar\":{\"outlinewidth\":0,\"ticks\":\"\"},\"colorscale\":[[0.0,\"#0d0887\"],[0.1111111111111111,\"#46039f\"],[0.2222222222222222,\"#7201a8\"],[0.3333333333333333,\"#9c179e\"],[0.4444444444444444,\"#bd3786\"],[0.5555555555555556,\"#d8576b\"],[0.6666666666666666,\"#ed7953\"],[0.7777777777777778,\"#fb9f3a\"],[0.8888888888888888,\"#fdca26\"],[1.0,\"#f0f921\"]],\"type\":\"heatmap\"}],\"heatmapgl\":[{\"colorbar\":{\"outlinewidth\":0,\"ticks\":\"\"},\"colorscale\":[[0.0,\"#0d0887\"],[0.1111111111111111,\"#46039f\"],[0.2222222222222222,\"#7201a8\"],[0.3333333333333333,\"#9c179e\"],[0.4444444444444444,\"#bd3786\"],[0.5555555555555556,\"#d8576b\"],[0.6666666666666666,\"#ed7953\"],[0.7777777777777778,\"#fb9f3a\"],[0.8888888888888888,\"#fdca26\"],[1.0,\"#f0f921\"]],\"type\":\"heatmapgl\"}],\"histogram\":[{\"marker\":{\"pattern\":{\"fillmode\":\"overlay\",\"size\":10,\"solidity\":0.2}},\"type\":\"histogram\"}],\"histogram2d\":[{\"colorbar\":{\"outlinewidth\":0,\"ticks\":\"\"},\"colorscale\":[[0.0,\"#0d0887\"],[0.1111111111111111,\"#46039f\"],[0.2222222222222222,\"#7201a8\"],[0.3333333333333333,\"#9c179e\"],[0.4444444444444444,\"#bd3786\"],[0.5555555555555556,\"#d8576b\"],[0.6666666666666666,\"#ed7953\"],[0.7777777777777778,\"#fb9f3a\"],[0.8888888888888888,\"#fdca26\"],[1.0,\"#f0f921\"]],\"type\":\"histogram2d\"}],\"histogram2dcontour\":[{\"colorbar\":{\"outlinewidth\":0,\"ticks\":\"\"},\"colorscale\":[[0.0,\"#0d0887\"],[0.1111111111111111,\"#46039f\"],[0.2222222222222222,\"#7201a8\"],[0.3333333333333333,\"#9c179e\"],[0.4444444444444444,\"#bd3786\"],[0.5555555555555556,\"#d8576b\"],[0.6666666666666666,\"#ed7953\"],[0.7777777777777778,\"#fb9f3a\"],[0.8888888888888888,\"#fdca26\"],[1.0,\"#f0f921\"]],\"type\":\"histogram2dcontour\"}],\"mesh3d\":[{\"colorbar\":{\"outlinewidth\":0,\"ticks\":\"\"},\"type\":\"mesh3d\"}],\"parcoords\":[{\"line\":{\"colorbar\":{\"outlinewidth\":0,\"ticks\":\"\"}},\"type\":\"parcoords\"}],\"pie\":[{\"automargin\":true,\"type\":\"pie\"}],\"scatter\":[{\"marker\":{\"colorbar\":{\"outlinewidth\":0,\"ticks\":\"\"}},\"type\":\"scatter\"}],\"scatter3d\":[{\"line\":{\"colorbar\":{\"outlinewidth\":0,\"ticks\":\"\"}},\"marker\":{\"colorbar\":{\"outlinewidth\":0,\"ticks\":\"\"}},\"type\":\"scatter3d\"}],\"scattercarpet\":[{\"marker\":{\"colorbar\":{\"outlinewidth\":0,\"ticks\":\"\"}},\"type\":\"scattercarpet\"}],\"scattergeo\":[{\"marker\":{\"colorbar\":{\"outlinewidth\":0,\"ticks\":\"\"}},\"type\":\"scattergeo\"}],\"scattergl\":[{\"marker\":{\"colorbar\":{\"outlinewidth\":0,\"ticks\":\"\"}},\"type\":\"scattergl\"}],\"scattermapbox\":[{\"marker\":{\"colorbar\":{\"outlinewidth\":0,\"ticks\":\"\"}},\"type\":\"scattermapbox\"}],\"scatterpolar\":[{\"marker\":{\"colorbar\":{\"outlinewidth\":0,\"ticks\":\"\"}},\"type\":\"scatterpolar\"}],\"scatterpolargl\":[{\"marker\":{\"colorbar\":{\"outlinewidth\":0,\"ticks\":\"\"}},\"type\":\"scatterpolargl\"}],\"scatterternary\":[{\"marker\":{\"colorbar\":{\"outlinewidth\":0,\"ticks\":\"\"}},\"type\":\"scatterternary\"}],\"surface\":[{\"colorbar\":{\"outlinewidth\":0,\"ticks\":\"\"},\"colorscale\":[[0.0,\"#0d0887\"],[0.1111111111111111,\"#46039f\"],[0.2222222222222222,\"#7201a8\"],[0.3333333333333333,\"#9c179e\"],[0.4444444444444444,\"#bd3786\"],[0.5555555555555556,\"#d8576b\"],[0.6666666666666666,\"#ed7953\"],[0.7777777777777778,\"#fb9f3a\"],[0.8888888888888888,\"#fdca26\"],[1.0,\"#f0f921\"]],\"type\":\"surface\"}],\"table\":[{\"cells\":{\"fill\":{\"color\":\"#EBF0F8\"},\"line\":{\"color\":\"white\"}},\"header\":{\"fill\":{\"color\":\"#C8D4E3\"},\"line\":{\"color\":\"white\"}},\"type\":\"table\"}]},\"layout\":{\"annotationdefaults\":{\"arrowcolor\":\"#2a3f5f\",\"arrowhead\":0,\"arrowwidth\":1},\"autotypenumbers\":\"strict\",\"coloraxis\":{\"colorbar\":{\"outlinewidth\":0,\"ticks\":\"\"}},\"colorscale\":{\"diverging\":[[0,\"#8e0152\"],[0.1,\"#c51b7d\"],[0.2,\"#de77ae\"],[0.3,\"#f1b6da\"],[0.4,\"#fde0ef\"],[0.5,\"#f7f7f7\"],[0.6,\"#e6f5d0\"],[0.7,\"#b8e186\"],[0.8,\"#7fbc41\"],[0.9,\"#4d9221\"],[1,\"#276419\"]],\"sequential\":[[0.0,\"#0d0887\"],[0.1111111111111111,\"#46039f\"],[0.2222222222222222,\"#7201a8\"],[0.3333333333333333,\"#9c179e\"],[0.4444444444444444,\"#bd3786\"],[0.5555555555555556,\"#d8576b\"],[0.6666666666666666,\"#ed7953\"],[0.7777777777777778,\"#fb9f3a\"],[0.8888888888888888,\"#fdca26\"],[1.0,\"#f0f921\"]],\"sequentialminus\":[[0.0,\"#0d0887\"],[0.1111111111111111,\"#46039f\"],[0.2222222222222222,\"#7201a8\"],[0.3333333333333333,\"#9c179e\"],[0.4444444444444444,\"#bd3786\"],[0.5555555555555556,\"#d8576b\"],[0.6666666666666666,\"#ed7953\"],[0.7777777777777778,\"#fb9f3a\"],[0.8888888888888888,\"#fdca26\"],[1.0,\"#f0f921\"]]},\"colorway\":[\"#636efa\",\"#EF553B\",\"#00cc96\",\"#ab63fa\",\"#FFA15A\",\"#19d3f3\",\"#FF6692\",\"#B6E880\",\"#FF97FF\",\"#FECB52\"],\"font\":{\"color\":\"#2a3f5f\"},\"geo\":{\"bgcolor\":\"white\",\"lakecolor\":\"white\",\"landcolor\":\"#E5ECF6\",\"showlakes\":true,\"showland\":true,\"subunitcolor\":\"white\"},\"hoverlabel\":{\"align\":\"left\"},\"hovermode\":\"closest\",\"mapbox\":{\"style\":\"light\"},\"paper_bgcolor\":\"white\",\"plot_bgcolor\":\"#E5ECF6\",\"polar\":{\"angularaxis\":{\"gridcolor\":\"white\",\"linecolor\":\"white\",\"ticks\":\"\"},\"bgcolor\":\"#E5ECF6\",\"radialaxis\":{\"gridcolor\":\"white\",\"linecolor\":\"white\",\"ticks\":\"\"}},\"scene\":{\"xaxis\":{\"backgroundcolor\":\"#E5ECF6\",\"gridcolor\":\"white\",\"gridwidth\":2,\"linecolor\":\"white\",\"showbackground\":true,\"ticks\":\"\",\"zerolinecolor\":\"white\"},\"yaxis\":{\"backgroundcolor\":\"#E5ECF6\",\"gridcolor\":\"white\",\"gridwidth\":2,\"linecolor\":\"white\",\"showbackground\":true,\"ticks\":\"\",\"zerolinecolor\":\"white\"},\"zaxis\":{\"backgroundcolor\":\"#E5ECF6\",\"gridcolor\":\"white\",\"gridwidth\":2,\"linecolor\":\"white\",\"showbackground\":true,\"ticks\":\"\",\"zerolinecolor\":\"white\"}},\"shapedefaults\":{\"line\":{\"color\":\"#2a3f5f\"}},\"ternary\":{\"aaxis\":{\"gridcolor\":\"white\",\"linecolor\":\"white\",\"ticks\":\"\"},\"baxis\":{\"gridcolor\":\"white\",\"linecolor\":\"white\",\"ticks\":\"\"},\"bgcolor\":\"#E5ECF6\",\"caxis\":{\"gridcolor\":\"white\",\"linecolor\":\"white\",\"ticks\":\"\"}},\"title\":{\"x\":0.05},\"xaxis\":{\"automargin\":true,\"gridcolor\":\"white\",\"linecolor\":\"white\",\"ticks\":\"\",\"title\":{\"standoff\":15},\"zerolinecolor\":\"white\",\"zerolinewidth\":2},\"yaxis\":{\"automargin\":true,\"gridcolor\":\"white\",\"linecolor\":\"white\",\"ticks\":\"\",\"title\":{\"standoff\":15},\"zerolinecolor\":\"white\",\"zerolinewidth\":2}}},\"xaxis\":{\"anchor\":\"y\",\"domain\":[0.0,1.0],\"title\":{\"text\":\"onlineVisits\"}},\"yaxis\":{\"anchor\":\"x\",\"domain\":[0.0,1.0],\"title\":{\"text\":\"count\"}},\"legend\":{\"tracegroupgap\":0},\"margin\":{\"t\":60},\"barmode\":\"relative\",\"title\":{\"text\":\"Distribution of number of online visits by user_id\"},\"bargap\":0.1,\"shapes\":[{\"line\":{\"color\":\"red\",\"dash\":\"dash\",\"width\":3},\"type\":\"line\",\"x0\":111.90295678544352,\"x1\":111.90295678544352,\"xref\":\"x\",\"y0\":0,\"y1\":1,\"yref\":\"y domain\"}],\"annotations\":[{\"arrowhead\":1,\"bgcolor\":\"white\",\"bordercolor\":\"black\",\"opacity\":1,\"showarrow\":true,\"text\":\"Average number of online visits at 112\",\"x\":111.90295678544352,\"y\":600}]},                        {\"responsive\": true}                    ).then(function(){\n",
              "                            \n",
              "var gd = document.getElementById('89a60445-f571-4fca-bf22-554bc7f7c657');\n",
              "var x = new MutationObserver(function (mutations, observer) {{\n",
              "        var display = window.getComputedStyle(gd).display;\n",
              "        if (!display || display === 'none') {{\n",
              "            console.log([gd, 'removed!']);\n",
              "            Plotly.purge(gd);\n",
              "            observer.disconnect();\n",
              "        }}\n",
              "}});\n",
              "\n",
              "// Listen for the removal of the full notebook cells\n",
              "var notebookContainer = gd.closest('#notebook-container');\n",
              "if (notebookContainer) {{\n",
              "    x.observe(notebookContainer, {childList: true});\n",
              "}}\n",
              "\n",
              "// Listen for the clearing of the current output cell\n",
              "var outputEl = gd.closest('.output');\n",
              "if (outputEl) {{\n",
              "    x.observe(outputEl, {childList: true});\n",
              "}}\n",
              "\n",
              "                        })                };                            </script>        </div>\n",
              "</body>\n",
              "</html>"
            ]
          },
          "metadata": {}
        }
      ]
    },
    {
      "cell_type": "markdown",
      "source": [
        "Based on the average of 112 online visits across 12 days (from 17 Feb to 28 Feb), this means a user visits the online store almost 10 times in a day. (*Using average instead of median despite skewed data, for ease of interpretation)"
      ],
      "metadata": {
        "id": "tiZP37WVoKBh"
      }
    },
    {
      "cell_type": "markdown",
      "source": [
        "Question 6: How many users, whether they visited online or otherwise, visited the physical store more than once?"
      ],
      "metadata": {
        "id": "fZLANTZT5puk"
      }
    },
    {
      "cell_type": "code",
      "source": [
        "q6 = pd.DataFrame(dfConcat[dfConcat[\"hasPurchasedOffline\"] == 1].groupby([\"offlineVisits\", \"hasVisitedOnline\"]).size()).reset_index(drop = False)\n",
        "q6 = q6.rename(columns = {0: \"users\"})\n",
        "q6[\"hasVisitedOnline\"] = q6[\"hasVisitedOnline\"].apply(lambda x: \"Yes\" if x == 1 else \"No\")\n",
        "fig = px.bar(q6, x = \"offlineVisits\", y = \"users\", color = \"hasVisitedOnline\", text_auto = True, width = 1080)\n",
        "fig.update_layout(title = \"Number of offline visits between those who did not visit online and those who did\", bargap = 0.1, barmode = 'group', bargroupgap = 0.03)\n",
        "fig.update_traces(marker_line=dict(width=2, color= 'black'))\n",
        "fig.show()"
      ],
      "metadata": {
        "colab": {
          "base_uri": "https://localhost:8080/",
          "height": 542
        },
        "id": "G1G0_nTk4Kjr",
        "outputId": "0e94d09c-a21a-41e2-8f00-0965f5bb6bd7"
      },
      "execution_count": null,
      "outputs": [
        {
          "output_type": "display_data",
          "data": {
            "text/html": [
              "<html>\n",
              "<head><meta charset=\"utf-8\" /></head>\n",
              "<body>\n",
              "    <div>            <script src=\"https://cdnjs.cloudflare.com/ajax/libs/mathjax/2.7.5/MathJax.js?config=TeX-AMS-MML_SVG\"></script><script type=\"text/javascript\">if (window.MathJax) {MathJax.Hub.Config({SVG: {font: \"STIX-Web\"}});}</script>                <script type=\"text/javascript\">window.PlotlyConfig = {MathJaxConfig: 'local'};</script>\n",
              "        <script src=\"https://cdn.plot.ly/plotly-2.8.3.min.js\"></script>                <div id=\"8df267df-fa67-47fd-8ec8-d43e2a47f80e\" class=\"plotly-graph-div\" style=\"height:525px; width:1080px;\"></div>            <script type=\"text/javascript\">                                    window.PLOTLYENV=window.PLOTLYENV || {};                                    if (document.getElementById(\"8df267df-fa67-47fd-8ec8-d43e2a47f80e\")) {                    Plotly.newPlot(                        \"8df267df-fa67-47fd-8ec8-d43e2a47f80e\",                        [{\"alignmentgroup\":\"True\",\"hovertemplate\":\"hasVisitedOnline=No<br>offlineVisits=%{x}<br>users=%{y}<extra></extra>\",\"legendgroup\":\"No\",\"marker\":{\"color\":\"#636efa\",\"pattern\":{\"shape\":\"\"},\"line\":{\"color\":\"black\",\"width\":2}},\"name\":\"No\",\"offsetgroup\":\"No\",\"orientation\":\"v\",\"showlegend\":true,\"textposition\":\"auto\",\"texttemplate\":\"%{y}\",\"x\":[1,2],\"xaxis\":\"x\",\"y\":[71,2],\"yaxis\":\"y\",\"type\":\"bar\"},{\"alignmentgroup\":\"True\",\"hovertemplate\":\"hasVisitedOnline=Yes<br>offlineVisits=%{x}<br>users=%{y}<extra></extra>\",\"legendgroup\":\"Yes\",\"marker\":{\"color\":\"#EF553B\",\"pattern\":{\"shape\":\"\"},\"line\":{\"color\":\"black\",\"width\":2}},\"name\":\"Yes\",\"offsetgroup\":\"Yes\",\"orientation\":\"v\",\"showlegend\":true,\"textposition\":\"auto\",\"texttemplate\":\"%{y}\",\"x\":[1,2],\"xaxis\":\"x\",\"y\":[139,5],\"yaxis\":\"y\",\"type\":\"bar\"}],                        {\"template\":{\"data\":{\"bar\":[{\"error_x\":{\"color\":\"#2a3f5f\"},\"error_y\":{\"color\":\"#2a3f5f\"},\"marker\":{\"line\":{\"color\":\"#E5ECF6\",\"width\":0.5},\"pattern\":{\"fillmode\":\"overlay\",\"size\":10,\"solidity\":0.2}},\"type\":\"bar\"}],\"barpolar\":[{\"marker\":{\"line\":{\"color\":\"#E5ECF6\",\"width\":0.5},\"pattern\":{\"fillmode\":\"overlay\",\"size\":10,\"solidity\":0.2}},\"type\":\"barpolar\"}],\"carpet\":[{\"aaxis\":{\"endlinecolor\":\"#2a3f5f\",\"gridcolor\":\"white\",\"linecolor\":\"white\",\"minorgridcolor\":\"white\",\"startlinecolor\":\"#2a3f5f\"},\"baxis\":{\"endlinecolor\":\"#2a3f5f\",\"gridcolor\":\"white\",\"linecolor\":\"white\",\"minorgridcolor\":\"white\",\"startlinecolor\":\"#2a3f5f\"},\"type\":\"carpet\"}],\"choropleth\":[{\"colorbar\":{\"outlinewidth\":0,\"ticks\":\"\"},\"type\":\"choropleth\"}],\"contour\":[{\"colorbar\":{\"outlinewidth\":0,\"ticks\":\"\"},\"colorscale\":[[0.0,\"#0d0887\"],[0.1111111111111111,\"#46039f\"],[0.2222222222222222,\"#7201a8\"],[0.3333333333333333,\"#9c179e\"],[0.4444444444444444,\"#bd3786\"],[0.5555555555555556,\"#d8576b\"],[0.6666666666666666,\"#ed7953\"],[0.7777777777777778,\"#fb9f3a\"],[0.8888888888888888,\"#fdca26\"],[1.0,\"#f0f921\"]],\"type\":\"contour\"}],\"contourcarpet\":[{\"colorbar\":{\"outlinewidth\":0,\"ticks\":\"\"},\"type\":\"contourcarpet\"}],\"heatmap\":[{\"colorbar\":{\"outlinewidth\":0,\"ticks\":\"\"},\"colorscale\":[[0.0,\"#0d0887\"],[0.1111111111111111,\"#46039f\"],[0.2222222222222222,\"#7201a8\"],[0.3333333333333333,\"#9c179e\"],[0.4444444444444444,\"#bd3786\"],[0.5555555555555556,\"#d8576b\"],[0.6666666666666666,\"#ed7953\"],[0.7777777777777778,\"#fb9f3a\"],[0.8888888888888888,\"#fdca26\"],[1.0,\"#f0f921\"]],\"type\":\"heatmap\"}],\"heatmapgl\":[{\"colorbar\":{\"outlinewidth\":0,\"ticks\":\"\"},\"colorscale\":[[0.0,\"#0d0887\"],[0.1111111111111111,\"#46039f\"],[0.2222222222222222,\"#7201a8\"],[0.3333333333333333,\"#9c179e\"],[0.4444444444444444,\"#bd3786\"],[0.5555555555555556,\"#d8576b\"],[0.6666666666666666,\"#ed7953\"],[0.7777777777777778,\"#fb9f3a\"],[0.8888888888888888,\"#fdca26\"],[1.0,\"#f0f921\"]],\"type\":\"heatmapgl\"}],\"histogram\":[{\"marker\":{\"pattern\":{\"fillmode\":\"overlay\",\"size\":10,\"solidity\":0.2}},\"type\":\"histogram\"}],\"histogram2d\":[{\"colorbar\":{\"outlinewidth\":0,\"ticks\":\"\"},\"colorscale\":[[0.0,\"#0d0887\"],[0.1111111111111111,\"#46039f\"],[0.2222222222222222,\"#7201a8\"],[0.3333333333333333,\"#9c179e\"],[0.4444444444444444,\"#bd3786\"],[0.5555555555555556,\"#d8576b\"],[0.6666666666666666,\"#ed7953\"],[0.7777777777777778,\"#fb9f3a\"],[0.8888888888888888,\"#fdca26\"],[1.0,\"#f0f921\"]],\"type\":\"histogram2d\"}],\"histogram2dcontour\":[{\"colorbar\":{\"outlinewidth\":0,\"ticks\":\"\"},\"colorscale\":[[0.0,\"#0d0887\"],[0.1111111111111111,\"#46039f\"],[0.2222222222222222,\"#7201a8\"],[0.3333333333333333,\"#9c179e\"],[0.4444444444444444,\"#bd3786\"],[0.5555555555555556,\"#d8576b\"],[0.6666666666666666,\"#ed7953\"],[0.7777777777777778,\"#fb9f3a\"],[0.8888888888888888,\"#fdca26\"],[1.0,\"#f0f921\"]],\"type\":\"histogram2dcontour\"}],\"mesh3d\":[{\"colorbar\":{\"outlinewidth\":0,\"ticks\":\"\"},\"type\":\"mesh3d\"}],\"parcoords\":[{\"line\":{\"colorbar\":{\"outlinewidth\":0,\"ticks\":\"\"}},\"type\":\"parcoords\"}],\"pie\":[{\"automargin\":true,\"type\":\"pie\"}],\"scatter\":[{\"marker\":{\"colorbar\":{\"outlinewidth\":0,\"ticks\":\"\"}},\"type\":\"scatter\"}],\"scatter3d\":[{\"line\":{\"colorbar\":{\"outlinewidth\":0,\"ticks\":\"\"}},\"marker\":{\"colorbar\":{\"outlinewidth\":0,\"ticks\":\"\"}},\"type\":\"scatter3d\"}],\"scattercarpet\":[{\"marker\":{\"colorbar\":{\"outlinewidth\":0,\"ticks\":\"\"}},\"type\":\"scattercarpet\"}],\"scattergeo\":[{\"marker\":{\"colorbar\":{\"outlinewidth\":0,\"ticks\":\"\"}},\"type\":\"scattergeo\"}],\"scattergl\":[{\"marker\":{\"colorbar\":{\"outlinewidth\":0,\"ticks\":\"\"}},\"type\":\"scattergl\"}],\"scattermapbox\":[{\"marker\":{\"colorbar\":{\"outlinewidth\":0,\"ticks\":\"\"}},\"type\":\"scattermapbox\"}],\"scatterpolar\":[{\"marker\":{\"colorbar\":{\"outlinewidth\":0,\"ticks\":\"\"}},\"type\":\"scatterpolar\"}],\"scatterpolargl\":[{\"marker\":{\"colorbar\":{\"outlinewidth\":0,\"ticks\":\"\"}},\"type\":\"scatterpolargl\"}],\"scatterternary\":[{\"marker\":{\"colorbar\":{\"outlinewidth\":0,\"ticks\":\"\"}},\"type\":\"scatterternary\"}],\"surface\":[{\"colorbar\":{\"outlinewidth\":0,\"ticks\":\"\"},\"colorscale\":[[0.0,\"#0d0887\"],[0.1111111111111111,\"#46039f\"],[0.2222222222222222,\"#7201a8\"],[0.3333333333333333,\"#9c179e\"],[0.4444444444444444,\"#bd3786\"],[0.5555555555555556,\"#d8576b\"],[0.6666666666666666,\"#ed7953\"],[0.7777777777777778,\"#fb9f3a\"],[0.8888888888888888,\"#fdca26\"],[1.0,\"#f0f921\"]],\"type\":\"surface\"}],\"table\":[{\"cells\":{\"fill\":{\"color\":\"#EBF0F8\"},\"line\":{\"color\":\"white\"}},\"header\":{\"fill\":{\"color\":\"#C8D4E3\"},\"line\":{\"color\":\"white\"}},\"type\":\"table\"}]},\"layout\":{\"annotationdefaults\":{\"arrowcolor\":\"#2a3f5f\",\"arrowhead\":0,\"arrowwidth\":1},\"autotypenumbers\":\"strict\",\"coloraxis\":{\"colorbar\":{\"outlinewidth\":0,\"ticks\":\"\"}},\"colorscale\":{\"diverging\":[[0,\"#8e0152\"],[0.1,\"#c51b7d\"],[0.2,\"#de77ae\"],[0.3,\"#f1b6da\"],[0.4,\"#fde0ef\"],[0.5,\"#f7f7f7\"],[0.6,\"#e6f5d0\"],[0.7,\"#b8e186\"],[0.8,\"#7fbc41\"],[0.9,\"#4d9221\"],[1,\"#276419\"]],\"sequential\":[[0.0,\"#0d0887\"],[0.1111111111111111,\"#46039f\"],[0.2222222222222222,\"#7201a8\"],[0.3333333333333333,\"#9c179e\"],[0.4444444444444444,\"#bd3786\"],[0.5555555555555556,\"#d8576b\"],[0.6666666666666666,\"#ed7953\"],[0.7777777777777778,\"#fb9f3a\"],[0.8888888888888888,\"#fdca26\"],[1.0,\"#f0f921\"]],\"sequentialminus\":[[0.0,\"#0d0887\"],[0.1111111111111111,\"#46039f\"],[0.2222222222222222,\"#7201a8\"],[0.3333333333333333,\"#9c179e\"],[0.4444444444444444,\"#bd3786\"],[0.5555555555555556,\"#d8576b\"],[0.6666666666666666,\"#ed7953\"],[0.7777777777777778,\"#fb9f3a\"],[0.8888888888888888,\"#fdca26\"],[1.0,\"#f0f921\"]]},\"colorway\":[\"#636efa\",\"#EF553B\",\"#00cc96\",\"#ab63fa\",\"#FFA15A\",\"#19d3f3\",\"#FF6692\",\"#B6E880\",\"#FF97FF\",\"#FECB52\"],\"font\":{\"color\":\"#2a3f5f\"},\"geo\":{\"bgcolor\":\"white\",\"lakecolor\":\"white\",\"landcolor\":\"#E5ECF6\",\"showlakes\":true,\"showland\":true,\"subunitcolor\":\"white\"},\"hoverlabel\":{\"align\":\"left\"},\"hovermode\":\"closest\",\"mapbox\":{\"style\":\"light\"},\"paper_bgcolor\":\"white\",\"plot_bgcolor\":\"#E5ECF6\",\"polar\":{\"angularaxis\":{\"gridcolor\":\"white\",\"linecolor\":\"white\",\"ticks\":\"\"},\"bgcolor\":\"#E5ECF6\",\"radialaxis\":{\"gridcolor\":\"white\",\"linecolor\":\"white\",\"ticks\":\"\"}},\"scene\":{\"xaxis\":{\"backgroundcolor\":\"#E5ECF6\",\"gridcolor\":\"white\",\"gridwidth\":2,\"linecolor\":\"white\",\"showbackground\":true,\"ticks\":\"\",\"zerolinecolor\":\"white\"},\"yaxis\":{\"backgroundcolor\":\"#E5ECF6\",\"gridcolor\":\"white\",\"gridwidth\":2,\"linecolor\":\"white\",\"showbackground\":true,\"ticks\":\"\",\"zerolinecolor\":\"white\"},\"zaxis\":{\"backgroundcolor\":\"#E5ECF6\",\"gridcolor\":\"white\",\"gridwidth\":2,\"linecolor\":\"white\",\"showbackground\":true,\"ticks\":\"\",\"zerolinecolor\":\"white\"}},\"shapedefaults\":{\"line\":{\"color\":\"#2a3f5f\"}},\"ternary\":{\"aaxis\":{\"gridcolor\":\"white\",\"linecolor\":\"white\",\"ticks\":\"\"},\"baxis\":{\"gridcolor\":\"white\",\"linecolor\":\"white\",\"ticks\":\"\"},\"bgcolor\":\"#E5ECF6\",\"caxis\":{\"gridcolor\":\"white\",\"linecolor\":\"white\",\"ticks\":\"\"}},\"title\":{\"x\":0.05},\"xaxis\":{\"automargin\":true,\"gridcolor\":\"white\",\"linecolor\":\"white\",\"ticks\":\"\",\"title\":{\"standoff\":15},\"zerolinecolor\":\"white\",\"zerolinewidth\":2},\"yaxis\":{\"automargin\":true,\"gridcolor\":\"white\",\"linecolor\":\"white\",\"ticks\":\"\",\"title\":{\"standoff\":15},\"zerolinecolor\":\"white\",\"zerolinewidth\":2}}},\"xaxis\":{\"anchor\":\"y\",\"domain\":[0.0,1.0],\"title\":{\"text\":\"offlineVisits\"}},\"yaxis\":{\"anchor\":\"x\",\"domain\":[0.0,1.0],\"title\":{\"text\":\"users\"}},\"legend\":{\"title\":{\"text\":\"hasVisitedOnline\"},\"tracegroupgap\":0},\"margin\":{\"t\":60},\"barmode\":\"group\",\"width\":1080,\"title\":{\"text\":\"Number of offline visits between those who did not visit online and those who did\"},\"bargap\":0.1,\"bargroupgap\":0.03},                        {\"responsive\": true}                    ).then(function(){\n",
              "                            \n",
              "var gd = document.getElementById('8df267df-fa67-47fd-8ec8-d43e2a47f80e');\n",
              "var x = new MutationObserver(function (mutations, observer) {{\n",
              "        var display = window.getComputedStyle(gd).display;\n",
              "        if (!display || display === 'none') {{\n",
              "            console.log([gd, 'removed!']);\n",
              "            Plotly.purge(gd);\n",
              "            observer.disconnect();\n",
              "        }}\n",
              "}});\n",
              "\n",
              "// Listen for the removal of the full notebook cells\n",
              "var notebookContainer = gd.closest('#notebook-container');\n",
              "if (notebookContainer) {{\n",
              "    x.observe(notebookContainer, {childList: true});\n",
              "}}\n",
              "\n",
              "// Listen for the clearing of the current output cell\n",
              "var outputEl = gd.closest('.output');\n",
              "if (outputEl) {{\n",
              "    x.observe(outputEl, {childList: true});\n",
              "}}\n",
              "\n",
              "                        })                };                            </script>        </div>\n",
              "</body>\n",
              "</html>"
            ]
          },
          "metadata": {}
        }
      ]
    },
    {
      "cell_type": "markdown",
      "source": [
        "In total, we witness that users who shopped offline and visited online are doubled, compared to those who did not visit online."
      ],
      "metadata": {
        "id": "-86JR8_EpWV-"
      }
    },
    {
      "cell_type": "code",
      "source": [
        "# Move to modelling"
      ],
      "metadata": {
        "id": "GCmapuKuAe-e"
      },
      "execution_count": null,
      "outputs": []
    }
  ]
}